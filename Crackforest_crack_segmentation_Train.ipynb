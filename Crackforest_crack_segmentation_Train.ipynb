{
 "cells": [
  {
   "cell_type": "code",
   "execution_count": 1,
   "metadata": {},
   "outputs": [],
   "source": [
    "import warnings\n",
    "warnings.filterwarnings('ignore')"
   ]
  },
  {
   "cell_type": "markdown",
   "metadata": {},
   "source": [
    "### Allocating Dynamic GPU Memory"
   ]
  },
  {
   "cell_type": "code",
   "execution_count": 2,
   "metadata": {},
   "outputs": [],
   "source": [
    "import os\n",
    "os.environ[\"CUDA_DEVICE_ORDER\"]=\"PCI_BUS_ID\"\n",
    "os.environ[\"CUDA_VISIBLE_DEVICES\"]=\"0\"\n",
    "\n",
    "import tensorflow as tf\n",
    "config = tf.ConfigProto()\n",
    "config.gpu_options.allow_growth = True\n",
    "session = tf.Session(config=config)"
   ]
  },
  {
   "cell_type": "markdown",
   "metadata": {},
   "source": [
    "### Importing Libraries and Packages"
   ]
  },
  {
   "cell_type": "code",
   "execution_count": 3,
   "metadata": {},
   "outputs": [
    {
     "name": "stderr",
     "output_type": "stream",
     "text": [
      "Using TensorFlow backend.\n"
     ]
    }
   ],
   "source": [
    "import tensorflow as tf\n",
    "import matplotlib.pyplot as plt\n",
    "from PIL import Image\n",
    "import numpy as np\n",
    "from keras.models import Sequential\n",
    "from keras.models import model_from_json\n",
    "from keras.layers.core import Dense, Dropout, Activation\n",
    "from keras.layers import concatenate\n",
    "from keras.layers.recurrent import LSTM\n",
    "from sklearn.metrics import mean_absolute_error\n",
    "import csv\n",
    "from matplotlib import pyplot\n",
    "from keras.layers import CuDNNLSTM, merge,ConvLSTM2D, Lambda, Conv2DTranspose, Concatenate, Flatten, Conv2D, BatchNormalization, UpSampling2D, MaxPooling2D, MaxPooling3D, UpSampling3D\n",
    "from keras import losses\n",
    "from keras.layers import Input, Reshape\n",
    "from keras.models import Model\n",
    "import matplotlib.pyplot as plt\n",
    "import keras\n",
    "import pickle\n",
    "from keras.layers import Bidirectional\n",
    "import os\n",
    "import sys\n",
    "import time\n",
    "from scipy.spatial import distance\n",
    "from sklearn.metrics import hamming_loss\n",
    "import keras.backend as K\n",
    "import json\n",
    "from PIL import ImageFilter\n",
    "import PIL"
   ]
  },
  {
   "cell_type": "markdown",
   "metadata": {},
   "source": [
    "### Data path"
   ]
  },
  {
   "cell_type": "code",
   "execution_count": 4,
   "metadata": {},
   "outputs": [],
   "source": [
    "#loading data\n",
    "train_image_path = 'train/img'\n",
    "train_mask_path = 'train/mask'\n",
    "\n",
    "val_image_path = 'val/img'\n",
    "val_mask_path = 'val/mask'\n",
    "\n",
    "test_image_path = 'test/img'\n",
    "test_mask_path = 'test/mask'"
   ]
  },
  {
   "cell_type": "markdown",
   "metadata": {},
   "source": [
    "### Fetching data"
   ]
  },
  {
   "cell_type": "code",
   "execution_count": 5,
   "metadata": {},
   "outputs": [],
   "source": [
    "def get_data(image_path, mask_path):\n",
    "    train_images = sorted(os.listdir(image_path))\n",
    "    mask_images = sorted(os.listdir(mask_path))\n",
    "    i = 0\n",
    "    x_nump = []\n",
    "    y_nump = []\n",
    "    \n",
    "    for img in train_images:\n",
    "        i = i + 1\n",
    "        per = i / len(train_images) * 100\n",
    "\n",
    "        x = Image.open(image_path + \"/\" + img)\n",
    "        x = x.resize((480,320))\n",
    "        x = x.convert('L')\n",
    "\n",
    "        x = np.array(x)\n",
    "        x = np.expand_dims(x, -1)\n",
    "        x_nump.append(x)\n",
    "    \n",
    "    for img in mask_images:\n",
    "        i = i + 1\n",
    "        per = i / len(train_images) * 100\n",
    "        \n",
    "        y = Image.open(mask_path + \"/\" + img)\n",
    "        y = y.resize((480,320))\n",
    "        y = y.convert('L')\n",
    "        y = np.array(y)\n",
    "        y = np.expand_dims(y, -1)\n",
    "        \n",
    "        y_nump.append(y)\n",
    "        \n",
    "        \n",
    "    x_nump = np.array(x_nump)\n",
    "    y_nump = np.array(y_nump)\n",
    "    y_nump[y_nump == 0] = 0\n",
    "    y_nump[y_nump != 0] = 1\n",
    "\n",
    "    return x_nump, y_nump"
   ]
  },
  {
   "cell_type": "code",
   "execution_count": 6,
   "metadata": {},
   "outputs": [],
   "source": [
    "train_x , train_y = get_data(train_image_path, train_mask_path)\n",
    "val_x , val_y = get_data(val_image_path, val_mask_path)"
   ]
  },
  {
   "cell_type": "code",
   "execution_count": 8,
   "metadata": {},
   "outputs": [
    {
     "name": "stdout",
     "output_type": "stream",
     "text": [
      "(649, 320, 480, 1) (649, 320, 480, 1)\n",
      "(59, 320, 480, 1) (59, 320, 480, 1)\n"
     ]
    }
   ],
   "source": [
    "print(train_x.shape, train_y.shape)\n",
    "print(val_x.shape, val_y.shape)"
   ]
  },
  {
   "cell_type": "markdown",
   "metadata": {},
   "source": [
    "###  Normalizing data"
   ]
  },
  {
   "cell_type": "code",
   "execution_count": 10,
   "metadata": {},
   "outputs": [],
   "source": [
    "mean = np.mean(train_x)\n",
    "std = np.std(train_x)\n",
    "train_x = (train_x - mean) / std\n",
    "val_x = (val_x - mean) / std"
   ]
  },
  {
   "cell_type": "markdown",
   "metadata": {},
   "source": [
    "### Concatenating images"
   ]
  },
  {
   "cell_type": "code",
   "execution_count": 14,
   "metadata": {},
   "outputs": [],
   "source": [
    "#row by row sequence\n",
    "def stretch_data(x_train, y_train):\n",
    "    x_sequence = list()\n",
    "    y_sequence = list()\n",
    "    for img in x_train:\n",
    "        for row in img:\n",
    "            x_sequence.append(row)\n",
    "            \n",
    "    for img in y_train:\n",
    "        for row in img:\n",
    "            y_sequence.append(row)\n",
    "        \n",
    "    return np.array(x_sequence), np.array(y_sequence)"
   ]
  },
  {
   "cell_type": "code",
   "execution_count": 15,
   "metadata": {},
   "outputs": [],
   "source": [
    "x_train_sequence, y_train_sequence = stretch_data(train_x,train_y)\n",
    "del train_x,train_y\n",
    "val_x_train_sequence, val_y_train_sequence = stretch_data(val_x,val_y)\n",
    "del val_x,val_y"
   ]
  },
  {
   "cell_type": "code",
   "execution_count": 16,
   "metadata": {},
   "outputs": [
    {
     "name": "stdout",
     "output_type": "stream",
     "text": [
      "(207680, 480, 1) (207680, 480, 1)\n",
      "(18880, 480, 1) (18880, 480, 1)\n"
     ]
    }
   ],
   "source": [
    "print(x_train_sequence.shape , y_train_sequence.shape)\n",
    "print(val_x_train_sequence.shape , val_y_train_sequence.shape)"
   ]
  },
  {
   "cell_type": "markdown",
   "metadata": {},
   "source": [
    "### Converting data into sequence"
   ]
  },
  {
   "cell_type": "code",
   "execution_count": 17,
   "metadata": {},
   "outputs": [],
   "source": [
    "def get_sequence(x_train, y_train, time_step, window):\n",
    "    amount_of_features = x_train.shape[1]\n",
    "    sequence_length = time_step\n",
    "    x_result = []\n",
    "    y_result = []\n",
    "    \n",
    "    x_seq_res = []\n",
    "    y_seq_res = []\n",
    "    #Dividing the complete image sequence into blocks of shape window x features\n",
    "    #Image \n",
    "    for index in range(0,len(x_train), window):\n",
    "        x_result.append(x_train[index: index + window])\n",
    "    #Mask\n",
    "    for index in range(0,len(y_train), window):\n",
    "        y_result.append(y_train[index: index + window])\n",
    "        \n",
    "    x_result = np.array(x_result)\n",
    "    y_result = np.array(y_result)   \n",
    "    print(x_result.shape)\n",
    "    print(y_result.shape)\n",
    "    \n",
    "    #Making the sequence of shape time_step x window x features\n",
    "    #Image \n",
    "    for index in range(len(x_result) - sequence_length):\n",
    "        x_seq_res.append(x_result[index: index + sequence_length])\n",
    "    #Mask\n",
    "    for index in range(len(y_result) - sequence_length):\n",
    "        y_seq_res.append(y_result[index + sequence_length - 1])\n",
    "\n",
    "    x_seq_res = np.array(x_seq_res)\n",
    "    y_seq_res = np.array(y_seq_res)\n",
    "    print(x_seq_res.shape, y_seq_res.shape)\n",
    "    \n",
    "    return [x_seq_res, y_seq_res]"
   ]
  },
  {
   "cell_type": "code",
   "execution_count": 18,
   "metadata": {},
   "outputs": [
    {
     "name": "stdout",
     "output_type": "stream",
     "text": [
      "(207680, 1, 480, 1)\n",
      "(207680, 1, 480, 1)\n",
      "(207672, 8, 1, 480, 1) (207672, 1, 480, 1)\n",
      "(18880, 1, 480, 1)\n",
      "(18880, 1, 480, 1)\n",
      "(18872, 8, 1, 480, 1) (18872, 1, 480, 1)\n"
     ]
    }
   ],
   "source": [
    "x_train, y_train = get_sequence(x_train_sequence, y_train_sequence, 8, 1)\n",
    "del x_train_sequence, y_train_sequence\n",
    "val_x_train, val_y_train = get_sequence(val_x_train_sequence, val_y_train_sequence, 8, 1)\n",
    "del val_x_train_sequence, val_y_train_sequence"
   ]
  },
  {
   "cell_type": "markdown",
   "metadata": {},
   "source": [
    "### Defining matrices and loss function"
   ]
  },
  {
   "cell_type": "code",
   "execution_count": 21,
   "metadata": {},
   "outputs": [],
   "source": [
    "def mean_iou(y_true, y_pred, smooth=1):\n",
    "    intersection = K.sum(K.abs(y_true * y_pred))\n",
    "    union = K.sum(y_true)+K.sum(y_pred)-intersection\n",
    "    iou = ((intersection) / (union + K.epsilon()))\n",
    "    return iou\n",
    "\n",
    "def dice_loss(y_true, y_pred):\n",
    "    numerator = 2 * tf.reduce_sum(y_true * y_pred)\n",
    "    # some implementations don't square y_pred\n",
    "    denominator = tf.reduce_sum(y_true + tf.square(y_pred))\n",
    "\n",
    "    return numerator / (denominator + tf.keras.backend.epsilon())"
   ]
  },
  {
   "cell_type": "code",
   "execution_count": 22,
   "metadata": {},
   "outputs": [],
   "source": [
    "def dice_coef(y_true, y_pred, smooth=1):\n",
    "    intersection = K.sum(y_true * y_pred)\n",
    "    union = K.sum(y_true) + K.sum(y_pred)\n",
    "    dice = ((2. * intersection)/(union + K.epsilon()))\n",
    "    return dice\n",
    "\n",
    "def dice_coef_loss(y_true, y_pred):\n",
    "    return 1-dice_coef(y_true, y_pred)"
   ]
  },
  {
   "cell_type": "code",
   "execution_count": 25,
   "metadata": {},
   "outputs": [],
   "source": [
    "def binary_focal_loss_fixed(y_true, y_pred, smooth = 1.0):\n",
    "    pt_1 = tf.where(tf.equal(y_true, 1), y_pred, tf.zeros_like(y_pred))\n",
    "    pt_0 = tf.where(tf.equal(y_true, 0), y_pred, tf.zeros_like(y_pred))\n",
    "    intersection = K.sum(pt_1)\n",
    "    false_negative = K.sum(pt_0) \n",
    "    \n",
    "    union = K.sum(y_true) + K.sum(y_pred)\n",
    "    dice = ((2. * intersection)/(union + K.epsilon()))\n",
    "    \n",
    "    return (1-dice)"
   ]
  },
  {
   "cell_type": "code",
   "execution_count": 26,
   "metadata": {},
   "outputs": [],
   "source": [
    "def recall_m(y_true, y_pred):\n",
    "    true_positives = K.sum(y_true * y_pred)\n",
    "    possible_positives = K.sum(y_true)\n",
    "    recall = true_positives / (possible_positives + K.epsilon())\n",
    "    return recall\n",
    "\n",
    "def precision_m(y_true, y_pred):\n",
    "    true_positives = K.sum(y_true * y_pred)\n",
    "    predicted_positives = K.sum(y_pred)\n",
    "    precision = true_positives / (predicted_positives + K.epsilon())\n",
    "    return precision\n",
    "\n",
    "def f1_m(y_true, y_pred):\n",
    "    precision = precision_m(y_true, y_pred)\n",
    "    recall = recall_m(y_true, y_pred)\n",
    "    return 2*((precision*recall)/(precision+recall+K.epsilon()))"
   ]
  },
  {
   "cell_type": "code",
   "execution_count": 27,
   "metadata": {},
   "outputs": [],
   "source": [
    "def loss(y_true, y_pred):\n",
    "    return 1 - f1_m(y_true, y_pred)"
   ]
  },
  {
   "cell_type": "markdown",
   "metadata": {},
   "source": [
    "### Defining Architecture"
   ]
  },
  {
   "cell_type": "code",
   "execution_count": 31,
   "metadata": {},
   "outputs": [],
   "source": [
    "def get_model(pretrained_weights = None,input_size = (8, 1, 480, 1)):\n",
    "    inputs = Input(input_size)\n",
    "    conv1 = (ConvLSTM2D(64, kernel_size=(1,9), activation = 'tanh', padding = 'same', kernel_initializer = 'he_normal', return_sequences=True))(inputs)\n",
    "    bnorm1 = BatchNormalization()(conv1)\n",
    "    drop1 = Dropout(0.2)(bnorm1)\n",
    "    conv5 = ConvLSTM2D(1, kernel_size=(1,9), activation = 'softmax', padding = 'same', kernel_initializer = 'he_normal', return_sequences=False)(drop1)\n",
    "        \n",
    "    #Model                     \n",
    "    model = Model(input = inputs, output = conv5)\n",
    "    model.compile(optimizer = keras.optimizers.Adam(lr = 1e-4), loss = binary_focal_loss_fixed , metrics = ['accuracy', dice_coef, mean_iou])\n",
    "    \n",
    "    if(pretrained_weights):\n",
    "        print('loading_weights')\n",
    "        model.load_weights(pretrained_weights)\n",
    "    \n",
    "    if(pretrained_weights):\n",
    "        print('loading_weights')\n",
    "        model.load_weights(pretrained_weights)\n",
    "\n",
    "    return model"
   ]
  },
  {
   "cell_type": "code",
   "execution_count": 32,
   "metadata": {
    "scrolled": true
   },
   "outputs": [
    {
     "name": "stdout",
     "output_type": "stream",
     "text": [
      "_________________________________________________________________\n",
      "Layer (type)                 Output Shape              Param #   \n",
      "=================================================================\n",
      "input_3 (InputLayer)         (None, 8, 1, 480, 1)      0         \n",
      "_________________________________________________________________\n",
      "conv_lst_m2d_5 (ConvLSTM2D)  (None, 8, 1, 480, 64)     150016    \n",
      "_________________________________________________________________\n",
      "batch_normalization_3 (Batch (None, 8, 1, 480, 64)     256       \n",
      "_________________________________________________________________\n",
      "dropout_3 (Dropout)          (None, 8, 1, 480, 64)     0         \n",
      "_________________________________________________________________\n",
      "conv_lst_m2d_6 (ConvLSTM2D)  (None, 1, 480, 1)         2344      \n",
      "=================================================================\n",
      "Total params: 152,616\n",
      "Trainable params: 152,488\n",
      "Non-trainable params: 128\n",
      "_________________________________________________________________\n"
     ]
    }
   ],
   "source": [
    "model = get_model()\n",
    "model.summary()"
   ]
  },
  {
   "cell_type": "markdown",
   "metadata": {},
   "source": [
    "### Training the model"
   ]
  },
  {
   "cell_type": "code",
   "execution_count": 33,
   "metadata": {
    "scrolled": true
   },
   "outputs": [
    {
     "name": "stdout",
     "output_type": "stream",
     "text": [
      "Train on 207672 samples, validate on 18872 samples\n",
      "Epoch 1/100\n",
      "207360/207672 [============================>.] - ETA: 1s - loss: 0.5503 - acc: 0.9623 - dice_coef: 0.4497 - mean_iou: 0.2980 - f1_m: 0.4497Epoch 00001: val_f1_m improved from -inf to 0.48207, saving model to augmented_50_50_random_split_Crackforest_grayscale_input_2_layer_tanh_softmax_loss_f1_epochs_100_bs_320_lr_1e_4_input_8_1_480.hdf5\n",
      "207672/207672 [==============================] - 718s 3ms/step - loss: 0.5502 - acc: 0.9623 - dice_coef: 0.4498 - mean_iou: 0.2981 - f1_m: 0.4498 - val_loss: 0.5179 - val_acc: 0.9824 - val_dice_coef: 0.4821 - val_mean_iou: 0.3368 - val_f1_m: 0.4821\n",
      "Epoch 2/100\n",
      "207360/207672 [============================>.] - ETA: 1s - loss: 0.4602 - acc: 0.9831 - dice_coef: 0.5398 - mean_iou: 0.3703 - f1_m: 0.5398Epoch 00002: val_f1_m improved from 0.48207 to 0.50982, saving model to augmented_50_50_random_split_Crackforest_grayscale_input_2_layer_tanh_softmax_loss_f1_epochs_100_bs_320_lr_1e_4_input_8_1_480.hdf5\n",
      "207672/207672 [==============================] - 710s 3ms/step - loss: 0.4602 - acc: 0.9831 - dice_coef: 0.5398 - mean_iou: 0.3702 - f1_m: 0.5398 - val_loss: 0.4902 - val_acc: 0.9835 - val_dice_coef: 0.5098 - val_mean_iou: 0.3608 - val_f1_m: 0.5098\n",
      "Epoch 3/100\n",
      "207360/207672 [============================>.] - ETA: 1s - loss: 0.4430 - acc: 0.9837 - dice_coef: 0.5570 - mean_iou: 0.3866 - f1_m: 0.5570Epoch 00003: val_f1_m improved from 0.50982 to 0.52470, saving model to augmented_50_50_random_split_Crackforest_grayscale_input_2_layer_tanh_softmax_loss_f1_epochs_100_bs_320_lr_1e_4_input_8_1_480.hdf5\n",
      "207672/207672 [==============================] - 715s 3ms/step - loss: 0.4430 - acc: 0.9836 - dice_coef: 0.5570 - mean_iou: 0.3866 - f1_m: 0.5570 - val_loss: 0.4753 - val_acc: 0.9830 - val_dice_coef: 0.5247 - val_mean_iou: 0.3712 - val_f1_m: 0.5247\n",
      "Epoch 4/100\n",
      "207360/207672 [============================>.] - ETA: 1s - loss: 0.4312 - acc: 0.9840 - dice_coef: 0.5688 - mean_iou: 0.3980 - f1_m: 0.5688Epoch 00004: val_f1_m improved from 0.52470 to 0.53718, saving model to augmented_50_50_random_split_Crackforest_grayscale_input_2_layer_tanh_softmax_loss_f1_epochs_100_bs_320_lr_1e_4_input_8_1_480.hdf5\n",
      "207672/207672 [==============================] - 712s 3ms/step - loss: 0.4312 - acc: 0.9840 - dice_coef: 0.5688 - mean_iou: 0.3980 - f1_m: 0.5688 - val_loss: 0.4628 - val_acc: 0.9834 - val_dice_coef: 0.5372 - val_mean_iou: 0.3824 - val_f1_m: 0.5372\n",
      "Epoch 5/100\n",
      "207360/207672 [============================>.] - ETA: 1s - loss: 0.4242 - acc: 0.9842 - dice_coef: 0.5758 - mean_iou: 0.4049 - f1_m: 0.5758Epoch 00005: val_f1_m improved from 0.53718 to 0.54303, saving model to augmented_50_50_random_split_Crackforest_grayscale_input_2_layer_tanh_softmax_loss_f1_epochs_100_bs_320_lr_1e_4_input_8_1_480.hdf5\n",
      "207672/207672 [==============================] - 714s 3ms/step - loss: 0.4243 - acc: 0.9842 - dice_coef: 0.5757 - mean_iou: 0.4049 - f1_m: 0.5757 - val_loss: 0.4570 - val_acc: 0.9836 - val_dice_coef: 0.5430 - val_mean_iou: 0.3881 - val_f1_m: 0.5430\n",
      "Epoch 6/100\n",
      "207360/207672 [============================>.] - ETA: 1s - loss: 0.4187 - acc: 0.9844 - dice_coef: 0.5813 - mean_iou: 0.4104 - f1_m: 0.5813Epoch 00006: val_f1_m improved from 0.54303 to 0.54659, saving model to augmented_50_50_random_split_Crackforest_grayscale_input_2_layer_tanh_softmax_loss_f1_epochs_100_bs_320_lr_1e_4_input_8_1_480.hdf5\n",
      "207672/207672 [==============================] - 710s 3ms/step - loss: 0.4186 - acc: 0.9844 - dice_coef: 0.5814 - mean_iou: 0.4104 - f1_m: 0.5814 - val_loss: 0.4534 - val_acc: 0.9841 - val_dice_coef: 0.5466 - val_mean_iou: 0.3929 - val_f1_m: 0.5466\n",
      "Epoch 7/100\n",
      "207360/207672 [============================>.] - ETA: 1s - loss: 0.4139 - acc: 0.9846 - dice_coef: 0.5861 - mean_iou: 0.4151 - f1_m: 0.5861Epoch 00007: val_f1_m improved from 0.54659 to 0.55074, saving model to augmented_50_50_random_split_Crackforest_grayscale_input_2_layer_tanh_softmax_loss_f1_epochs_100_bs_320_lr_1e_4_input_8_1_480.hdf5\n",
      "207672/207672 [==============================] - 711s 3ms/step - loss: 0.4138 - acc: 0.9846 - dice_coef: 0.5862 - mean_iou: 0.4152 - f1_m: 0.5862 - val_loss: 0.4493 - val_acc: 0.9840 - val_dice_coef: 0.5507 - val_mean_iou: 0.3963 - val_f1_m: 0.5507\n",
      "Epoch 8/100\n",
      "207360/207672 [============================>.] - ETA: 1s - loss: 0.4103 - acc: 0.9847 - dice_coef: 0.5897 - mean_iou: 0.4187 - f1_m: 0.5897Epoch 00008: val_f1_m improved from 0.55074 to 0.55365, saving model to augmented_50_50_random_split_Crackforest_grayscale_input_2_layer_tanh_softmax_loss_f1_epochs_100_bs_320_lr_1e_4_input_8_1_480.hdf5\n",
      "207672/207672 [==============================] - 710s 3ms/step - loss: 0.4104 - acc: 0.9847 - dice_coef: 0.5896 - mean_iou: 0.4186 - f1_m: 0.5896 - val_loss: 0.4463 - val_acc: 0.9842 - val_dice_coef: 0.5537 - val_mean_iou: 0.3985 - val_f1_m: 0.5537\n",
      "Epoch 9/100\n",
      "207360/207672 [============================>.] - ETA: 1s - loss: 0.4076 - acc: 0.9848 - dice_coef: 0.5924 - mean_iou: 0.4215 - f1_m: 0.5924Epoch 00009: val_f1_m did not improve\n",
      "207672/207672 [==============================] - 714s 3ms/step - loss: 0.4076 - acc: 0.9848 - dice_coef: 0.5924 - mean_iou: 0.4215 - f1_m: 0.5924 - val_loss: 0.4471 - val_acc: 0.9849 - val_dice_coef: 0.5529 - val_mean_iou: 0.3995 - val_f1_m: 0.5529\n",
      "Epoch 10/100\n",
      "207360/207672 [============================>.] - ETA: 1s - loss: 0.4052 - acc: 0.9849 - dice_coef: 0.5948 - mean_iou: 0.4239 - f1_m: 0.5948Epoch 00010: val_f1_m did not improve\n",
      "207672/207672 [==============================] - 711s 3ms/step - loss: 0.4053 - acc: 0.9849 - dice_coef: 0.5947 - mean_iou: 0.4239 - f1_m: 0.5947 - val_loss: 0.4466 - val_acc: 0.9850 - val_dice_coef: 0.5534 - val_mean_iou: 0.4004 - val_f1_m: 0.5534\n",
      "Epoch 11/100\n",
      "207360/207672 [============================>.] - ETA: 1s - loss: 0.4026 - acc: 0.9850 - dice_coef: 0.5974 - mean_iou: 0.4265 - f1_m: 0.5974Epoch 00011: val_f1_m improved from 0.55365 to 0.55959, saving model to augmented_50_50_random_split_Crackforest_grayscale_input_2_layer_tanh_softmax_loss_f1_epochs_100_bs_320_lr_1e_4_input_8_1_480.hdf5\n",
      "207672/207672 [==============================] - 711s 3ms/step - loss: 0.4027 - acc: 0.9850 - dice_coef: 0.5973 - mean_iou: 0.4264 - f1_m: 0.5973 - val_loss: 0.4404 - val_acc: 0.9842 - val_dice_coef: 0.5596 - val_mean_iou: 0.4037 - val_f1_m: 0.5596\n",
      "Epoch 12/100\n",
      "207360/207672 [============================>.] - ETA: 1s - loss: 0.4004 - acc: 0.9851 - dice_coef: 0.5996 - mean_iou: 0.4288 - f1_m: 0.5996Epoch 00012: val_f1_m improved from 0.55959 to 0.56332, saving model to augmented_50_50_random_split_Crackforest_grayscale_input_2_layer_tanh_softmax_loss_f1_epochs_100_bs_320_lr_1e_4_input_8_1_480.hdf5\n",
      "207672/207672 [==============================] - 712s 3ms/step - loss: 0.4004 - acc: 0.9851 - dice_coef: 0.5996 - mean_iou: 0.4288 - f1_m: 0.5996 - val_loss: 0.4367 - val_acc: 0.9846 - val_dice_coef: 0.5633 - val_mean_iou: 0.4076 - val_f1_m: 0.5633\n",
      "Epoch 13/100\n",
      "207360/207672 [============================>.] - ETA: 1s - loss: 0.3977 - acc: 0.9851 - dice_coef: 0.6023 - mean_iou: 0.4315 - f1_m: 0.6023Epoch 00013: val_f1_m did not improve\n",
      "207672/207672 [==============================] - 711s 3ms/step - loss: 0.3977 - acc: 0.9851 - dice_coef: 0.6023 - mean_iou: 0.4315 - f1_m: 0.6023 - val_loss: 0.4371 - val_acc: 0.9848 - val_dice_coef: 0.5629 - val_mean_iou: 0.4081 - val_f1_m: 0.5629\n",
      "Epoch 14/100\n",
      "207360/207672 [============================>.] - ETA: 1s - loss: 0.3965 - acc: 0.9852 - dice_coef: 0.6035 - mean_iou: 0.4328 - f1_m: 0.6035Epoch 00014: val_f1_m improved from 0.56332 to 0.56487, saving model to augmented_50_50_random_split_Crackforest_grayscale_input_2_layer_tanh_softmax_loss_f1_epochs_100_bs_320_lr_1e_4_input_8_1_480.hdf5\n",
      "207672/207672 [==============================] - 710s 3ms/step - loss: 0.3965 - acc: 0.9852 - dice_coef: 0.6035 - mean_iou: 0.4327 - f1_m: 0.6035 - val_loss: 0.4351 - val_acc: 0.9849 - val_dice_coef: 0.5649 - val_mean_iou: 0.4105 - val_f1_m: 0.5649\n",
      "Epoch 15/100\n",
      "207360/207672 [============================>.] - ETA: 1s - loss: 0.3942 - acc: 0.9853 - dice_coef: 0.6058 - mean_iou: 0.4351 - f1_m: 0.6058Epoch 00015: val_f1_m did not improve\n",
      "207672/207672 [==============================] - 707s 3ms/step - loss: 0.3941 - acc: 0.9853 - dice_coef: 0.6059 - mean_iou: 0.4352 - f1_m: 0.6059 - val_loss: 0.4360 - val_acc: 0.9855 - val_dice_coef: 0.5640 - val_mean_iou: 0.4107 - val_f1_m: 0.5640\n"
     ]
    },
    {
     "name": "stdout",
     "output_type": "stream",
     "text": [
      "Epoch 16/100\n",
      "207360/207672 [============================>.] - ETA: 1s - loss: 0.3931 - acc: 0.9853 - dice_coef: 0.6069 - mean_iou: 0.4363 - f1_m: 0.6069Epoch 00016: val_f1_m improved from 0.56487 to 0.56724, saving model to augmented_50_50_random_split_Crackforest_grayscale_input_2_layer_tanh_softmax_loss_f1_epochs_100_bs_320_lr_1e_4_input_8_1_480.hdf5\n",
      "207672/207672 [==============================] - 712s 3ms/step - loss: 0.3930 - acc: 0.9853 - dice_coef: 0.6070 - mean_iou: 0.4363 - f1_m: 0.6070 - val_loss: 0.4328 - val_acc: 0.9851 - val_dice_coef: 0.5672 - val_mean_iou: 0.4131 - val_f1_m: 0.5672\n",
      "Epoch 17/100\n",
      "207360/207672 [============================>.] - ETA: 1s - loss: 0.3910 - acc: 0.9854 - dice_coef: 0.6090 - mean_iou: 0.4384 - f1_m: 0.6090Epoch 00017: val_f1_m did not improve\n",
      "207672/207672 [==============================] - 706s 3ms/step - loss: 0.3910 - acc: 0.9854 - dice_coef: 0.6090 - mean_iou: 0.4384 - f1_m: 0.6090 - val_loss: 0.4328 - val_acc: 0.9855 - val_dice_coef: 0.5672 - val_mean_iou: 0.4139 - val_f1_m: 0.5672\n",
      "Epoch 18/100\n",
      "207360/207672 [============================>.] - ETA: 1s - loss: 0.3898 - acc: 0.9855 - dice_coef: 0.6102 - mean_iou: 0.4397 - f1_m: 0.6102Epoch 00018: val_f1_m improved from 0.56724 to 0.57271, saving model to augmented_50_50_random_split_Crackforest_grayscale_input_2_layer_tanh_softmax_loss_f1_epochs_100_bs_320_lr_1e_4_input_8_1_480.hdf5\n",
      "207672/207672 [==============================] - 714s 3ms/step - loss: 0.3898 - acc: 0.9855 - dice_coef: 0.6102 - mean_iou: 0.4397 - f1_m: 0.6102 - val_loss: 0.4273 - val_acc: 0.9846 - val_dice_coef: 0.5727 - val_mean_iou: 0.4155 - val_f1_m: 0.5727\n",
      "Epoch 19/100\n",
      "207360/207672 [============================>.] - ETA: 1s - loss: 0.3875 - acc: 0.9855 - dice_coef: 0.6125 - mean_iou: 0.4420 - f1_m: 0.6125Epoch 00019: val_f1_m improved from 0.57271 to 0.57430, saving model to augmented_50_50_random_split_Crackforest_grayscale_input_2_layer_tanh_softmax_loss_f1_epochs_100_bs_320_lr_1e_4_input_8_1_480.hdf5\n",
      "207672/207672 [==============================] - 713s 3ms/step - loss: 0.3875 - acc: 0.9855 - dice_coef: 0.6125 - mean_iou: 0.4420 - f1_m: 0.6125 - val_loss: 0.4257 - val_acc: 0.9852 - val_dice_coef: 0.5743 - val_mean_iou: 0.4188 - val_f1_m: 0.5743\n",
      "Epoch 20/100\n",
      "207360/207672 [============================>.] - ETA: 1s - loss: 0.3858 - acc: 0.9856 - dice_coef: 0.6142 - mean_iou: 0.4439 - f1_m: 0.6142Epoch 00020: val_f1_m improved from 0.57430 to 0.57439, saving model to augmented_50_50_random_split_Crackforest_grayscale_input_2_layer_tanh_softmax_loss_f1_epochs_100_bs_320_lr_1e_4_input_8_1_480.hdf5\n",
      "207672/207672 [==============================] - 715s 3ms/step - loss: 0.3858 - acc: 0.9856 - dice_coef: 0.6142 - mean_iou: 0.4438 - f1_m: 0.6142 - val_loss: 0.4256 - val_acc: 0.9852 - val_dice_coef: 0.5744 - val_mean_iou: 0.4190 - val_f1_m: 0.5744\n",
      "Epoch 21/100\n",
      "207360/207672 [============================>.] - ETA: 1s - loss: 0.3845 - acc: 0.9857 - dice_coef: 0.6155 - mean_iou: 0.4452 - f1_m: 0.6155Epoch 00021: val_f1_m did not improve\n",
      "207672/207672 [==============================] - 712s 3ms/step - loss: 0.3846 - acc: 0.9857 - dice_coef: 0.6154 - mean_iou: 0.4450 - f1_m: 0.6154 - val_loss: 0.4256 - val_acc: 0.9850 - val_dice_coef: 0.5744 - val_mean_iou: 0.4183 - val_f1_m: 0.5744\n",
      "Epoch 22/100\n",
      "207360/207672 [============================>.] - ETA: 1s - loss: 0.3838 - acc: 0.9857 - dice_coef: 0.6162 - mean_iou: 0.4459 - f1_m: 0.6162Epoch 00022: val_f1_m improved from 0.57439 to 0.57660, saving model to augmented_50_50_random_split_Crackforest_grayscale_input_2_layer_tanh_softmax_loss_f1_epochs_100_bs_320_lr_1e_4_input_8_1_480.hdf5\n",
      "207672/207672 [==============================] - 712s 3ms/step - loss: 0.3837 - acc: 0.9857 - dice_coef: 0.6163 - mean_iou: 0.4459 - f1_m: 0.6163 - val_loss: 0.4234 - val_acc: 0.9848 - val_dice_coef: 0.5766 - val_mean_iou: 0.4195 - val_f1_m: 0.5766\n",
      "Epoch 23/100\n",
      "207360/207672 [============================>.] - ETA: 1s - loss: 0.3815 - acc: 0.9858 - dice_coef: 0.6185 - mean_iou: 0.4482 - f1_m: 0.6185Epoch 00023: val_f1_m improved from 0.57660 to 0.57921, saving model to augmented_50_50_random_split_Crackforest_grayscale_input_2_layer_tanh_softmax_loss_f1_epochs_100_bs_320_lr_1e_4_input_8_1_480.hdf5\n",
      "207672/207672 [==============================] - 710s 3ms/step - loss: 0.3815 - acc: 0.9858 - dice_coef: 0.6185 - mean_iou: 0.4482 - f1_m: 0.6185 - val_loss: 0.4208 - val_acc: 0.9849 - val_dice_coef: 0.5792 - val_mean_iou: 0.4222 - val_f1_m: 0.5792\n",
      "Epoch 24/100\n",
      "207360/207672 [============================>.] - ETA: 1s - loss: 0.3807 - acc: 0.9858 - dice_coef: 0.6193 - mean_iou: 0.4491 - f1_m: 0.6193Epoch 00024: val_f1_m did not improve\n",
      "207672/207672 [==============================] - 716s 3ms/step - loss: 0.3807 - acc: 0.9858 - dice_coef: 0.6193 - mean_iou: 0.4491 - f1_m: 0.6193 - val_loss: 0.4222 - val_acc: 0.9846 - val_dice_coef: 0.5778 - val_mean_iou: 0.4200 - val_f1_m: 0.5778\n",
      "Epoch 25/100\n",
      "207360/207672 [============================>.] - ETA: 1s - loss: 0.3799 - acc: 0.9858 - dice_coef: 0.6201 - mean_iou: 0.4500 - f1_m: 0.6201Epoch 00025: val_f1_m improved from 0.57921 to 0.58042, saving model to augmented_50_50_random_split_Crackforest_grayscale_input_2_layer_tanh_softmax_loss_f1_epochs_100_bs_320_lr_1e_4_input_8_1_480.hdf5\n",
      "207672/207672 [==============================] - 713s 3ms/step - loss: 0.3798 - acc: 0.9858 - dice_coef: 0.6202 - mean_iou: 0.4501 - f1_m: 0.6202 - val_loss: 0.4196 - val_acc: 0.9849 - val_dice_coef: 0.5804 - val_mean_iou: 0.4232 - val_f1_m: 0.5804\n",
      "Epoch 26/100\n",
      "207360/207672 [============================>.] - ETA: 1s - loss: 0.3777 - acc: 0.9859 - dice_coef: 0.6223 - mean_iou: 0.4522 - f1_m: 0.6223Epoch 00026: val_f1_m did not improve\n",
      "207672/207672 [==============================] - 712s 3ms/step - loss: 0.3778 - acc: 0.9859 - dice_coef: 0.6222 - mean_iou: 0.4521 - f1_m: 0.6222 - val_loss: 0.4203 - val_acc: 0.9854 - val_dice_coef: 0.5797 - val_mean_iou: 0.4240 - val_f1_m: 0.5797\n",
      "Epoch 27/100\n",
      "207360/207672 [============================>.] - ETA: 1s - loss: 0.3770 - acc: 0.9860 - dice_coef: 0.6230 - mean_iou: 0.4530 - f1_m: 0.6230Epoch 00027: val_f1_m did not improve\n",
      "207672/207672 [==============================] - 712s 3ms/step - loss: 0.3770 - acc: 0.9860 - dice_coef: 0.6230 - mean_iou: 0.4530 - f1_m: 0.6230 - val_loss: 0.4198 - val_acc: 0.9855 - val_dice_coef: 0.5802 - val_mean_iou: 0.4247 - val_f1_m: 0.5802\n",
      "Epoch 28/100\n",
      "207360/207672 [============================>.] - ETA: 1s - loss: 0.3758 - acc: 0.9860 - dice_coef: 0.6242 - mean_iou: 0.4543 - f1_m: 0.6242Epoch 00028: val_f1_m improved from 0.58042 to 0.58352, saving model to augmented_50_50_random_split_Crackforest_grayscale_input_2_layer_tanh_softmax_loss_f1_epochs_100_bs_320_lr_1e_4_input_8_1_480.hdf5\n",
      "207672/207672 [==============================] - 712s 3ms/step - loss: 0.3757 - acc: 0.9860 - dice_coef: 0.6243 - mean_iou: 0.4543 - f1_m: 0.6243 - val_loss: 0.4165 - val_acc: 0.9849 - val_dice_coef: 0.5835 - val_mean_iou: 0.4261 - val_f1_m: 0.5835\n",
      "Epoch 29/100\n",
      "207360/207672 [============================>.] - ETA: 1s - loss: 0.3745 - acc: 0.9861 - dice_coef: 0.6255 - mean_iou: 0.4556 - f1_m: 0.6255Epoch 00029: val_f1_m improved from 0.58352 to 0.58353, saving model to augmented_50_50_random_split_Crackforest_grayscale_input_2_layer_tanh_softmax_loss_f1_epochs_100_bs_320_lr_1e_4_input_8_1_480.hdf5\n",
      "207672/207672 [==============================] - 712s 3ms/step - loss: 0.3744 - acc: 0.9861 - dice_coef: 0.6256 - mean_iou: 0.4557 - f1_m: 0.6256 - val_loss: 0.4165 - val_acc: 0.9857 - val_dice_coef: 0.5835 - val_mean_iou: 0.4277 - val_f1_m: 0.5835\n",
      "Epoch 30/100\n",
      "207360/207672 [============================>.] - ETA: 1s - loss: 0.3733 - acc: 0.9861 - dice_coef: 0.6267 - mean_iou: 0.4569 - f1_m: 0.6267Epoch 00030: val_f1_m did not improve\n",
      "207672/207672 [==============================] - 714s 3ms/step - loss: 0.3733 - acc: 0.9861 - dice_coef: 0.6267 - mean_iou: 0.4569 - f1_m: 0.6267 - val_loss: 0.4175 - val_acc: 0.9854 - val_dice_coef: 0.5825 - val_mean_iou: 0.4267 - val_f1_m: 0.5825\n",
      "Epoch 31/100\n",
      "207360/207672 [============================>.] - ETA: 1s - loss: 0.3726 - acc: 0.9861 - dice_coef: 0.6274 - mean_iou: 0.4577 - f1_m: 0.6274Epoch 00031: val_f1_m improved from 0.58353 to 0.58537, saving model to augmented_50_50_random_split_Crackforest_grayscale_input_2_layer_tanh_softmax_loss_f1_epochs_100_bs_320_lr_1e_4_input_8_1_480.hdf5\n",
      "207672/207672 [==============================] - 712s 3ms/step - loss: 0.3726 - acc: 0.9861 - dice_coef: 0.6274 - mean_iou: 0.4577 - f1_m: 0.6274 - val_loss: 0.4146 - val_acc: 0.9850 - val_dice_coef: 0.5854 - val_mean_iou: 0.4277 - val_f1_m: 0.5854\n",
      "Epoch 32/100\n",
      "207360/207672 [============================>.] - ETA: 1s - loss: 0.3708 - acc: 0.9862 - dice_coef: 0.6292 - mean_iou: 0.4595 - f1_m: 0.6292Epoch 00032: val_f1_m improved from 0.58537 to 0.58731, saving model to augmented_50_50_random_split_Crackforest_grayscale_input_2_layer_tanh_softmax_loss_f1_epochs_100_bs_320_lr_1e_4_input_8_1_480.hdf5\n",
      "207672/207672 [==============================] - 713s 3ms/step - loss: 0.3708 - acc: 0.9862 - dice_coef: 0.6292 - mean_iou: 0.4595 - f1_m: 0.6292 - val_loss: 0.4127 - val_acc: 0.9856 - val_dice_coef: 0.5873 - val_mean_iou: 0.4305 - val_f1_m: 0.5873\n",
      "Epoch 33/100\n",
      "207360/207672 [============================>.] - ETA: 1s - loss: 0.3703 - acc: 0.9862 - dice_coef: 0.6297 - mean_iou: 0.4600 - f1_m: 0.6297Epoch 00033: val_f1_m did not improve\n",
      "207672/207672 [==============================] - 710s 3ms/step - loss: 0.3703 - acc: 0.9862 - dice_coef: 0.6297 - mean_iou: 0.4600 - f1_m: 0.6297 - val_loss: 0.4131 - val_acc: 0.9856 - val_dice_coef: 0.5869 - val_mean_iou: 0.4305 - val_f1_m: 0.5869\n",
      "Epoch 34/100\n",
      "207360/207672 [============================>.] - ETA: 1s - loss: 0.3692 - acc: 0.9863 - dice_coef: 0.6308 - mean_iou: 0.4613 - f1_m: 0.6308Epoch 00034: val_f1_m improved from 0.58731 to 0.58750, saving model to augmented_50_50_random_split_Crackforest_grayscale_input_2_layer_tanh_softmax_loss_f1_epochs_100_bs_320_lr_1e_4_input_8_1_480.hdf5\n",
      "207672/207672 [==============================] - 711s 3ms/step - loss: 0.3693 - acc: 0.9863 - dice_coef: 0.6307 - mean_iou: 0.4612 - f1_m: 0.6307 - val_loss: 0.4125 - val_acc: 0.9858 - val_dice_coef: 0.5875 - val_mean_iou: 0.4317 - val_f1_m: 0.5875\n",
      "Epoch 35/100\n",
      "207360/207672 [============================>.] - ETA: 1s - loss: 0.3682 - acc: 0.9863 - dice_coef: 0.6318 - mean_iou: 0.4623 - f1_m: 0.6318Epoch 00035: val_f1_m improved from 0.58750 to 0.58773, saving model to augmented_50_50_random_split_Crackforest_grayscale_input_2_layer_tanh_softmax_loss_f1_epochs_100_bs_320_lr_1e_4_input_8_1_480.hdf5\n",
      "207672/207672 [==============================] - 712s 3ms/step - loss: 0.3681 - acc: 0.9863 - dice_coef: 0.6319 - mean_iou: 0.4624 - f1_m: 0.6319 - val_loss: 0.4123 - val_acc: 0.9856 - val_dice_coef: 0.5877 - val_mean_iou: 0.4313 - val_f1_m: 0.5877\n",
      "Epoch 36/100\n",
      "207360/207672 [============================>.] - ETA: 1s - loss: 0.3668 - acc: 0.9863 - dice_coef: 0.6332 - mean_iou: 0.4638 - f1_m: 0.6332Epoch 00036: val_f1_m improved from 0.58773 to 0.58936, saving model to augmented_50_50_random_split_Crackforest_grayscale_input_2_layer_tanh_softmax_loss_f1_epochs_100_bs_320_lr_1e_4_input_8_1_480.hdf5\n",
      "207672/207672 [==============================] - 711s 3ms/step - loss: 0.3668 - acc: 0.9863 - dice_coef: 0.6332 - mean_iou: 0.4638 - f1_m: 0.6332 - val_loss: 0.4106 - val_acc: 0.9859 - val_dice_coef: 0.5894 - val_mean_iou: 0.4334 - val_f1_m: 0.5894\n",
      "Epoch 37/100\n",
      "207360/207672 [============================>.] - ETA: 1s - loss: 0.3661 - acc: 0.9864 - dice_coef: 0.6339 - mean_iou: 0.4646 - f1_m: 0.6339Epoch 00037: val_f1_m did not improve\n",
      "207672/207672 [==============================] - 714s 3ms/step - loss: 0.3661 - acc: 0.9864 - dice_coef: 0.6339 - mean_iou: 0.4645 - f1_m: 0.6339 - val_loss: 0.4121 - val_acc: 0.9858 - val_dice_coef: 0.5879 - val_mean_iou: 0.4323 - val_f1_m: 0.5879\n",
      "Epoch 38/100\n",
      "207360/207672 [============================>.] - ETA: 1s - loss: 0.3650 - acc: 0.9864 - dice_coef: 0.6350 - mean_iou: 0.4657 - f1_m: 0.6350Epoch 00038: val_f1_m improved from 0.58936 to 0.59046, saving model to augmented_50_50_random_split_Crackforest_grayscale_input_2_layer_tanh_softmax_loss_f1_epochs_100_bs_320_lr_1e_4_input_8_1_480.hdf5\n",
      "207672/207672 [==============================] - 715s 3ms/step - loss: 0.3650 - acc: 0.9864 - dice_coef: 0.6350 - mean_iou: 0.4657 - f1_m: 0.6350 - val_loss: 0.4095 - val_acc: 0.9857 - val_dice_coef: 0.5905 - val_mean_iou: 0.4339 - val_f1_m: 0.5905\n",
      "Epoch 39/100\n",
      "207360/207672 [============================>.] - ETA: 1s - loss: 0.3644 - acc: 0.9864 - dice_coef: 0.6356 - mean_iou: 0.4664 - f1_m: 0.6356Epoch 00039: val_f1_m improved from 0.59046 to 0.59096, saving model to augmented_50_50_random_split_Crackforest_grayscale_input_2_layer_tanh_softmax_loss_f1_epochs_100_bs_320_lr_1e_4_input_8_1_480.hdf5\n",
      "207672/207672 [==============================] - 708s 3ms/step - loss: 0.3644 - acc: 0.9864 - dice_coef: 0.6356 - mean_iou: 0.4665 - f1_m: 0.6356 - val_loss: 0.4090 - val_acc: 0.9856 - val_dice_coef: 0.5910 - val_mean_iou: 0.4342 - val_f1_m: 0.5910\n",
      "Epoch 40/100\n",
      "207360/207672 [============================>.] - ETA: 1s - loss: 0.3631 - acc: 0.9865 - dice_coef: 0.6369 - mean_iou: 0.4678 - f1_m: 0.6369Epoch 00040: val_f1_m did not improve\n",
      "207672/207672 [==============================] - 713s 3ms/step - loss: 0.3632 - acc: 0.9865 - dice_coef: 0.6368 - mean_iou: 0.4677 - f1_m: 0.6368 - val_loss: 0.4115 - val_acc: 0.9860 - val_dice_coef: 0.5885 - val_mean_iou: 0.4332 - val_f1_m: 0.5885\n",
      "Epoch 41/100\n",
      "207360/207672 [============================>.] - ETA: 1s - loss: 0.3625 - acc: 0.9865 - dice_coef: 0.6375 - mean_iou: 0.4685 - f1_m: 0.6375Epoch 00041: val_f1_m improved from 0.59096 to 0.59279, saving model to augmented_50_50_random_split_Crackforest_grayscale_input_2_layer_tanh_softmax_loss_f1_epochs_100_bs_320_lr_1e_4_input_8_1_480.hdf5\n",
      "207672/207672 [==============================] - 712s 3ms/step - loss: 0.3625 - acc: 0.9865 - dice_coef: 0.6375 - mean_iou: 0.4685 - f1_m: 0.6375 - val_loss: 0.4072 - val_acc: 0.9860 - val_dice_coef: 0.5928 - val_mean_iou: 0.4367 - val_f1_m: 0.5928\n",
      "Epoch 42/100\n",
      "207360/207672 [============================>.] - ETA: 1s - loss: 0.3614 - acc: 0.9866 - dice_coef: 0.6386 - mean_iou: 0.4696 - f1_m: 0.6386Epoch 00042: val_f1_m did not improve\n",
      "207672/207672 [==============================] - 716s 3ms/step - loss: 0.3614 - acc: 0.9866 - dice_coef: 0.6386 - mean_iou: 0.4697 - f1_m: 0.6386 - val_loss: 0.4124 - val_acc: 0.9864 - val_dice_coef: 0.5876 - val_mean_iou: 0.4338 - val_f1_m: 0.5876\n",
      "Epoch 43/100\n",
      "207360/207672 [============================>.] - ETA: 1s - loss: 0.3604 - acc: 0.9866 - dice_coef: 0.6396 - mean_iou: 0.4707 - f1_m: 0.6396Epoch 00043: val_f1_m did not improve\n",
      "207672/207672 [==============================] - 714s 3ms/step - loss: 0.3604 - acc: 0.9866 - dice_coef: 0.6396 - mean_iou: 0.4707 - f1_m: 0.6396 - val_loss: 0.4079 - val_acc: 0.9854 - val_dice_coef: 0.5921 - val_mean_iou: 0.4351 - val_f1_m: 0.5921\n",
      "Epoch 44/100\n",
      "207360/207672 [============================>.] - ETA: 1s - loss: 0.3602 - acc: 0.9866 - dice_coef: 0.6398 - mean_iou: 0.4710 - f1_m: 0.6398Epoch 00044: val_f1_m improved from 0.59279 to 0.59447, saving model to augmented_50_50_random_split_Crackforest_grayscale_input_2_layer_tanh_softmax_loss_f1_epochs_100_bs_320_lr_1e_4_input_8_1_480.hdf5\n",
      "207672/207672 [==============================] - 711s 3ms/step - loss: 0.3602 - acc: 0.9866 - dice_coef: 0.6398 - mean_iou: 0.4710 - f1_m: 0.6398 - val_loss: 0.4055 - val_acc: 0.9860 - val_dice_coef: 0.5945 - val_mean_iou: 0.4380 - val_f1_m: 0.5945\n",
      "Epoch 45/100\n",
      "207360/207672 [============================>.] - ETA: 1s - loss: 0.3586 - acc: 0.9867 - dice_coef: 0.6414 - mean_iou: 0.4727 - f1_m: 0.6414Epoch 00045: val_f1_m did not improve\n",
      "207672/207672 [==============================] - 710s 3ms/step - loss: 0.3586 - acc: 0.9867 - dice_coef: 0.6414 - mean_iou: 0.4727 - f1_m: 0.6414 - val_loss: 0.4057 - val_acc: 0.9860 - val_dice_coef: 0.5943 - val_mean_iou: 0.4379 - val_f1_m: 0.5943\n",
      "Epoch 46/100\n"
     ]
    },
    {
     "name": "stdout",
     "output_type": "stream",
     "text": [
      "207360/207672 [============================>.] - ETA: 1s - loss: 0.3578 - acc: 0.9867 - dice_coef: 0.6422 - mean_iou: 0.4735 - f1_m: 0.6422Epoch 00046: val_f1_m did not improve\n",
      "207672/207672 [==============================] - 710s 3ms/step - loss: 0.3578 - acc: 0.9867 - dice_coef: 0.6422 - mean_iou: 0.4735 - f1_m: 0.6422 - val_loss: 0.4104 - val_acc: 0.9863 - val_dice_coef: 0.5896 - val_mean_iou: 0.4355 - val_f1_m: 0.5896\n",
      "Epoch 47/100\n",
      "207360/207672 [============================>.] - ETA: 1s - loss: 0.3567 - acc: 0.9867 - dice_coef: 0.6433 - mean_iou: 0.4747 - f1_m: 0.6433Epoch 00047: val_f1_m improved from 0.59447 to 0.59497, saving model to augmented_50_50_random_split_Crackforest_grayscale_input_2_layer_tanh_softmax_loss_f1_epochs_100_bs_320_lr_1e_4_input_8_1_480.hdf5\n",
      "207672/207672 [==============================] - 709s 3ms/step - loss: 0.3567 - acc: 0.9867 - dice_coef: 0.6433 - mean_iou: 0.4747 - f1_m: 0.6433 - val_loss: 0.4050 - val_acc: 0.9861 - val_dice_coef: 0.5950 - val_mean_iou: 0.4390 - val_f1_m: 0.5950\n",
      "Epoch 48/100\n",
      "207360/207672 [============================>.] - ETA: 1s - loss: 0.3561 - acc: 0.9868 - dice_coef: 0.6439 - mean_iou: 0.4754 - f1_m: 0.6439Epoch 00048: val_f1_m improved from 0.59497 to 0.59590, saving model to augmented_50_50_random_split_Crackforest_grayscale_input_2_layer_tanh_softmax_loss_f1_epochs_100_bs_320_lr_1e_4_input_8_1_480.hdf5\n",
      "207672/207672 [==============================] - 711s 3ms/step - loss: 0.3561 - acc: 0.9868 - dice_coef: 0.6439 - mean_iou: 0.4754 - f1_m: 0.6439 - val_loss: 0.4041 - val_acc: 0.9863 - val_dice_coef: 0.5959 - val_mean_iou: 0.4400 - val_f1_m: 0.5959\n",
      "Epoch 49/100\n",
      "207360/207672 [============================>.] - ETA: 1s - loss: 0.3551 - acc: 0.9868 - dice_coef: 0.6449 - mean_iou: 0.4765 - f1_m: 0.6449Epoch 00049: val_f1_m did not improve\n",
      "207672/207672 [==============================] - 711s 3ms/step - loss: 0.3551 - acc: 0.9868 - dice_coef: 0.6449 - mean_iou: 0.4765 - f1_m: 0.6449 - val_loss: 0.4042 - val_acc: 0.9862 - val_dice_coef: 0.5958 - val_mean_iou: 0.4403 - val_f1_m: 0.5958\n",
      "Epoch 50/100\n",
      "207360/207672 [============================>.] - ETA: 1s - loss: 0.3544 - acc: 0.9868 - dice_coef: 0.6456 - mean_iou: 0.4773 - f1_m: 0.6456Epoch 00050: val_f1_m improved from 0.59590 to 0.59663, saving model to augmented_50_50_random_split_Crackforest_grayscale_input_2_layer_tanh_softmax_loss_f1_epochs_100_bs_320_lr_1e_4_input_8_1_480.hdf5\n",
      "207672/207672 [==============================] - 715s 3ms/step - loss: 0.3544 - acc: 0.9868 - dice_coef: 0.6456 - mean_iou: 0.4773 - f1_m: 0.6456 - val_loss: 0.4034 - val_acc: 0.9862 - val_dice_coef: 0.5966 - val_mean_iou: 0.4406 - val_f1_m: 0.5966\n",
      "Epoch 51/100\n",
      "207360/207672 [============================>.] - ETA: 1s - loss: 0.3530 - acc: 0.9869 - dice_coef: 0.6470 - mean_iou: 0.4787 - f1_m: 0.6470Epoch 00051: val_f1_m improved from 0.59663 to 0.59679, saving model to augmented_50_50_random_split_Crackforest_grayscale_input_2_layer_tanh_softmax_loss_f1_epochs_100_bs_320_lr_1e_4_input_8_1_480.hdf5\n",
      "207672/207672 [==============================] - 711s 3ms/step - loss: 0.3530 - acc: 0.9869 - dice_coef: 0.6470 - mean_iou: 0.4787 - f1_m: 0.6470 - val_loss: 0.4032 - val_acc: 0.9858 - val_dice_coef: 0.5968 - val_mean_iou: 0.4399 - val_f1_m: 0.5968\n",
      "Epoch 52/100\n",
      "207360/207672 [============================>.] - ETA: 1s - loss: 0.3524 - acc: 0.9869 - dice_coef: 0.6476 - mean_iou: 0.4794 - f1_m: 0.6476Epoch 00052: val_f1_m improved from 0.59679 to 0.59689, saving model to augmented_50_50_random_split_Crackforest_grayscale_input_2_layer_tanh_softmax_loss_f1_epochs_100_bs_320_lr_1e_4_input_8_1_480.hdf5\n",
      "207672/207672 [==============================] - 713s 3ms/step - loss: 0.3524 - acc: 0.9869 - dice_coef: 0.6476 - mean_iou: 0.4795 - f1_m: 0.6476 - val_loss: 0.4031 - val_acc: 0.9862 - val_dice_coef: 0.5969 - val_mean_iou: 0.4406 - val_f1_m: 0.5969\n",
      "Epoch 53/100\n",
      "207360/207672 [============================>.] - ETA: 1s - loss: 0.3515 - acc: 0.9870 - dice_coef: 0.6485 - mean_iou: 0.4804 - f1_m: 0.6485Epoch 00053: val_f1_m improved from 0.59689 to 0.60040, saving model to augmented_50_50_random_split_Crackforest_grayscale_input_2_layer_tanh_softmax_loss_f1_epochs_100_bs_320_lr_1e_4_input_8_1_480.hdf5\n",
      "207672/207672 [==============================] - 710s 3ms/step - loss: 0.3515 - acc: 0.9870 - dice_coef: 0.6485 - mean_iou: 0.4804 - f1_m: 0.6485 - val_loss: 0.3996 - val_acc: 0.9861 - val_dice_coef: 0.6004 - val_mean_iou: 0.4434 - val_f1_m: 0.6004\n",
      "Epoch 54/100\n",
      "207360/207672 [============================>.] - ETA: 1s - loss: 0.3509 - acc: 0.9870 - dice_coef: 0.6491 - mean_iou: 0.4810 - f1_m: 0.6491Epoch 00054: val_f1_m did not improve\n",
      "207672/207672 [==============================] - 713s 3ms/step - loss: 0.3509 - acc: 0.9870 - dice_coef: 0.6491 - mean_iou: 0.4810 - f1_m: 0.6491 - val_loss: 0.4016 - val_acc: 0.9856 - val_dice_coef: 0.5984 - val_mean_iou: 0.4410 - val_f1_m: 0.5984\n",
      "Epoch 55/100\n",
      "207360/207672 [============================>.] - ETA: 1s - loss: 0.3499 - acc: 0.9870 - dice_coef: 0.6501 - mean_iou: 0.4821 - f1_m: 0.6501Epoch 00055: val_f1_m did not improve\n",
      "207672/207672 [==============================] - 712s 3ms/step - loss: 0.3499 - acc: 0.9870 - dice_coef: 0.6501 - mean_iou: 0.4821 - f1_m: 0.6501 - val_loss: 0.4013 - val_acc: 0.9860 - val_dice_coef: 0.5987 - val_mean_iou: 0.4418 - val_f1_m: 0.5987\n",
      "Epoch 56/100\n",
      "207360/207672 [============================>.] - ETA: 1s - loss: 0.3489 - acc: 0.9871 - dice_coef: 0.6511 - mean_iou: 0.4832 - f1_m: 0.6511Epoch 00056: val_f1_m improved from 0.60040 to 0.60087, saving model to augmented_50_50_random_split_Crackforest_grayscale_input_2_layer_tanh_softmax_loss_f1_epochs_100_bs_320_lr_1e_4_input_8_1_480.hdf5\n",
      "207672/207672 [==============================] - 713s 3ms/step - loss: 0.3490 - acc: 0.9871 - dice_coef: 0.6510 - mean_iou: 0.4832 - f1_m: 0.6510 - val_loss: 0.3991 - val_acc: 0.9860 - val_dice_coef: 0.6009 - val_mean_iou: 0.4437 - val_f1_m: 0.6009\n",
      "Epoch 57/100\n",
      "207360/207672 [============================>.] - ETA: 1s - loss: 0.3478 - acc: 0.9871 - dice_coef: 0.6522 - mean_iou: 0.4844 - f1_m: 0.6522Epoch 00057: val_f1_m improved from 0.60087 to 0.60112, saving model to augmented_50_50_random_split_Crackforest_grayscale_input_2_layer_tanh_softmax_loss_f1_epochs_100_bs_320_lr_1e_4_input_8_1_480.hdf5\n",
      "207672/207672 [==============================] - 708s 3ms/step - loss: 0.3478 - acc: 0.9871 - dice_coef: 0.6522 - mean_iou: 0.4844 - f1_m: 0.6522 - val_loss: 0.3989 - val_acc: 0.9865 - val_dice_coef: 0.6011 - val_mean_iou: 0.4454 - val_f1_m: 0.6011\n",
      "Epoch 58/100\n",
      "207360/207672 [============================>.] - ETA: 1s - loss: 0.3475 - acc: 0.9871 - dice_coef: 0.6525 - mean_iou: 0.4848 - f1_m: 0.6525Epoch 00058: val_f1_m did not improve\n",
      "207672/207672 [==============================] - 711s 3ms/step - loss: 0.3475 - acc: 0.9871 - dice_coef: 0.6525 - mean_iou: 0.4848 - f1_m: 0.6525 - val_loss: 0.3997 - val_acc: 0.9864 - val_dice_coef: 0.6003 - val_mean_iou: 0.4445 - val_f1_m: 0.6003\n",
      "Epoch 59/100\n",
      "207360/207672 [============================>.] - ETA: 1s - loss: 0.3465 - acc: 0.9872 - dice_coef: 0.6535 - mean_iou: 0.4859 - f1_m: 0.6535Epoch 00059: val_f1_m improved from 0.60112 to 0.60341, saving model to augmented_50_50_random_split_Crackforest_grayscale_input_2_layer_tanh_softmax_loss_f1_epochs_100_bs_320_lr_1e_4_input_8_1_480.hdf5\n",
      "207672/207672 [==============================] - 716s 3ms/step - loss: 0.3465 - acc: 0.9872 - dice_coef: 0.6535 - mean_iou: 0.4859 - f1_m: 0.6535 - val_loss: 0.3966 - val_acc: 0.9862 - val_dice_coef: 0.6034 - val_mean_iou: 0.4460 - val_f1_m: 0.6034\n",
      "Epoch 60/100\n",
      "207360/207672 [============================>.] - ETA: 1s - loss: 0.3459 - acc: 0.9872 - dice_coef: 0.6541 - mean_iou: 0.4865 - f1_m: 0.6541Epoch 00060: val_f1_m did not improve\n",
      "207672/207672 [==============================] - 718s 3ms/step - loss: 0.3459 - acc: 0.9872 - dice_coef: 0.6541 - mean_iou: 0.4866 - f1_m: 0.6541 - val_loss: 0.3995 - val_acc: 0.9865 - val_dice_coef: 0.6005 - val_mean_iou: 0.4451 - val_f1_m: 0.6005\n",
      "Epoch 61/100\n",
      "207360/207672 [============================>.] - ETA: 1s - loss: 0.3450 - acc: 0.9872 - dice_coef: 0.6550 - mean_iou: 0.4875 - f1_m: 0.6550Epoch 00061: val_f1_m did not improve\n",
      "207672/207672 [==============================] - 713s 3ms/step - loss: 0.3449 - acc: 0.9872 - dice_coef: 0.6551 - mean_iou: 0.4876 - f1_m: 0.6551 - val_loss: 0.4109 - val_acc: 0.9869 - val_dice_coef: 0.5891 - val_mean_iou: 0.4366 - val_f1_m: 0.5891\n",
      "Epoch 62/100\n",
      "207360/207672 [============================>.] - ETA: 1s - loss: 0.3443 - acc: 0.9873 - dice_coef: 0.6557 - mean_iou: 0.4884 - f1_m: 0.6557Epoch 00062: val_f1_m improved from 0.60341 to 0.60454, saving model to augmented_50_50_random_split_Crackforest_grayscale_input_2_layer_tanh_softmax_loss_f1_epochs_100_bs_320_lr_1e_4_input_8_1_480.hdf5\n",
      "207672/207672 [==============================] - 712s 3ms/step - loss: 0.3443 - acc: 0.9872 - dice_coef: 0.6557 - mean_iou: 0.4884 - f1_m: 0.6557 - val_loss: 0.3955 - val_acc: 0.9864 - val_dice_coef: 0.6045 - val_mean_iou: 0.4479 - val_f1_m: 0.6045\n",
      "Epoch 63/100\n",
      "207360/207672 [============================>.] - ETA: 1s - loss: 0.3433 - acc: 0.9873 - dice_coef: 0.6567 - mean_iou: 0.4894 - f1_m: 0.6567Epoch 00063: val_f1_m did not improve\n",
      "207672/207672 [==============================] - 711s 3ms/step - loss: 0.3433 - acc: 0.9873 - dice_coef: 0.6567 - mean_iou: 0.4894 - f1_m: 0.6567 - val_loss: 0.3983 - val_acc: 0.9865 - val_dice_coef: 0.6017 - val_mean_iou: 0.4460 - val_f1_m: 0.6017\n",
      "Epoch 64/100\n",
      "207360/207672 [============================>.] - ETA: 1s - loss: 0.3426 - acc: 0.9873 - dice_coef: 0.6574 - mean_iou: 0.4901 - f1_m: 0.6574Epoch 00064: val_f1_m improved from 0.60454 to 0.60515, saving model to augmented_50_50_random_split_Crackforest_grayscale_input_2_layer_tanh_softmax_loss_f1_epochs_100_bs_320_lr_1e_4_input_8_1_480.hdf5\n",
      "207672/207672 [==============================] - 712s 3ms/step - loss: 0.3426 - acc: 0.9873 - dice_coef: 0.6574 - mean_iou: 0.4901 - f1_m: 0.6574 - val_loss: 0.3948 - val_acc: 0.9856 - val_dice_coef: 0.6052 - val_mean_iou: 0.4464 - val_f1_m: 0.6052\n",
      "Epoch 65/100\n",
      "207360/207672 [============================>.] - ETA: 1s - loss: 0.3421 - acc: 0.9873 - dice_coef: 0.6579 - mean_iou: 0.4907 - f1_m: 0.6579Epoch 00065: val_f1_m improved from 0.60515 to 0.60539, saving model to augmented_50_50_random_split_Crackforest_grayscale_input_2_layer_tanh_softmax_loss_f1_epochs_100_bs_320_lr_1e_4_input_8_1_480.hdf5\n",
      "207672/207672 [==============================] - 714s 3ms/step - loss: 0.3421 - acc: 0.9873 - dice_coef: 0.6579 - mean_iou: 0.4908 - f1_m: 0.6579 - val_loss: 0.3946 - val_acc: 0.9860 - val_dice_coef: 0.6054 - val_mean_iou: 0.4479 - val_f1_m: 0.6054\n",
      "Epoch 66/100\n",
      "207360/207672 [============================>.] - ETA: 1s - loss: 0.3412 - acc: 0.9874 - dice_coef: 0.6588 - mean_iou: 0.4917 - f1_m: 0.6588Epoch 00066: val_f1_m did not improve\n",
      "207672/207672 [==============================] - 714s 3ms/step - loss: 0.3412 - acc: 0.9874 - dice_coef: 0.6588 - mean_iou: 0.4917 - f1_m: 0.6588 - val_loss: 0.3957 - val_acc: 0.9865 - val_dice_coef: 0.6043 - val_mean_iou: 0.4480 - val_f1_m: 0.6043\n",
      "Epoch 67/100\n",
      "207360/207672 [============================>.] - ETA: 1s - loss: 0.3405 - acc: 0.9874 - dice_coef: 0.6595 - mean_iou: 0.4925 - f1_m: 0.6595Epoch 00067: val_f1_m did not improve\n",
      "207672/207672 [==============================] - 713s 3ms/step - loss: 0.3405 - acc: 0.9874 - dice_coef: 0.6595 - mean_iou: 0.4925 - f1_m: 0.6595 - val_loss: 0.3967 - val_acc: 0.9867 - val_dice_coef: 0.6033 - val_mean_iou: 0.4476 - val_f1_m: 0.6033\n",
      "Epoch 68/100\n",
      "207360/207672 [============================>.] - ETA: 1s - loss: 0.3407 - acc: 0.9874 - dice_coef: 0.6593 - mean_iou: 0.4923 - f1_m: 0.6593Epoch 00068: val_f1_m did not improve\n",
      "207672/207672 [==============================] - 712s 3ms/step - loss: 0.3407 - acc: 0.9874 - dice_coef: 0.6593 - mean_iou: 0.4923 - f1_m: 0.6593 - val_loss: 0.3946 - val_acc: 0.9864 - val_dice_coef: 0.6054 - val_mean_iou: 0.4490 - val_f1_m: 0.6054\n",
      "Epoch 69/100\n",
      "207360/207672 [============================>.] - ETA: 1s - loss: 0.3393 - acc: 0.9874 - dice_coef: 0.6607 - mean_iou: 0.4938 - f1_m: 0.6607Epoch 00069: val_f1_m improved from 0.60539 to 0.60776, saving model to augmented_50_50_random_split_Crackforest_grayscale_input_2_layer_tanh_softmax_loss_f1_epochs_100_bs_320_lr_1e_4_input_8_1_480.hdf5\n",
      "207672/207672 [==============================] - 712s 3ms/step - loss: 0.3394 - acc: 0.9874 - dice_coef: 0.6606 - mean_iou: 0.4938 - f1_m: 0.6606 - val_loss: 0.3922 - val_acc: 0.9865 - val_dice_coef: 0.6078 - val_mean_iou: 0.4509 - val_f1_m: 0.6078\n",
      "Epoch 70/100\n",
      "207360/207672 [============================>.] - ETA: 1s - loss: 0.3381 - acc: 0.9875 - dice_coef: 0.6619 - mean_iou: 0.4952 - f1_m: 0.6619Epoch 00070: val_f1_m did not improve\n",
      "207672/207672 [==============================] - 713s 3ms/step - loss: 0.3381 - acc: 0.9875 - dice_coef: 0.6619 - mean_iou: 0.4951 - f1_m: 0.6619 - val_loss: 0.3930 - val_acc: 0.9860 - val_dice_coef: 0.6070 - val_mean_iou: 0.4489 - val_f1_m: 0.6070\n",
      "Epoch 71/100\n",
      "207360/207672 [============================>.] - ETA: 1s - loss: 0.3379 - acc: 0.9875 - dice_coef: 0.6621 - mean_iou: 0.4954 - f1_m: 0.6621Epoch 00071: val_f1_m did not improve\n",
      "207672/207672 [==============================] - 712s 3ms/step - loss: 0.3378 - acc: 0.9875 - dice_coef: 0.6622 - mean_iou: 0.4955 - f1_m: 0.6622 - val_loss: 0.3930 - val_acc: 0.9865 - val_dice_coef: 0.6070 - val_mean_iou: 0.4504 - val_f1_m: 0.6070\n",
      "Epoch 72/100\n",
      "207360/207672 [============================>.] - ETA: 1s - loss: 0.3378 - acc: 0.9875 - dice_coef: 0.6622 - mean_iou: 0.4956 - f1_m: 0.6622Epoch 00072: val_f1_m did not improve\n",
      "207672/207672 [==============================] - 711s 3ms/step - loss: 0.3377 - acc: 0.9875 - dice_coef: 0.6623 - mean_iou: 0.4957 - f1_m: 0.6623 - val_loss: 0.3924 - val_acc: 0.9864 - val_dice_coef: 0.6076 - val_mean_iou: 0.4505 - val_f1_m: 0.6076\n",
      "Epoch 73/100\n",
      "207360/207672 [============================>.] - ETA: 1s - loss: 0.3363 - acc: 0.9876 - dice_coef: 0.6637 - mean_iou: 0.4972 - f1_m: 0.6637Epoch 00073: val_f1_m did not improve\n",
      "207672/207672 [==============================] - 712s 3ms/step - loss: 0.3363 - acc: 0.9876 - dice_coef: 0.6637 - mean_iou: 0.4972 - f1_m: 0.6637 - val_loss: 0.3954 - val_acc: 0.9867 - val_dice_coef: 0.6046 - val_mean_iou: 0.4492 - val_f1_m: 0.6046\n",
      "Epoch 74/100\n",
      "207360/207672 [============================>.] - ETA: 1s - loss: 0.3354 - acc: 0.9876 - dice_coef: 0.6646 - mean_iou: 0.4981 - f1_m: 0.6646Epoch 00074: val_f1_m improved from 0.60776 to 0.60833, saving model to augmented_50_50_random_split_Crackforest_grayscale_input_2_layer_tanh_softmax_loss_f1_epochs_100_bs_320_lr_1e_4_input_8_1_480.hdf5\n",
      "207672/207672 [==============================] - 709s 3ms/step - loss: 0.3354 - acc: 0.9876 - dice_coef: 0.6646 - mean_iou: 0.4981 - f1_m: 0.6646 - val_loss: 0.3917 - val_acc: 0.9865 - val_dice_coef: 0.6083 - val_mean_iou: 0.4514 - val_f1_m: 0.6083\n",
      "Epoch 75/100\n",
      "207360/207672 [============================>.] - ETA: 1s - loss: 0.3352 - acc: 0.9876 - dice_coef: 0.6648 - mean_iou: 0.4984 - f1_m: 0.6648Epoch 00075: val_f1_m improved from 0.60833 to 0.60938, saving model to augmented_50_50_random_split_Crackforest_grayscale_input_2_layer_tanh_softmax_loss_f1_epochs_100_bs_320_lr_1e_4_input_8_1_480.hdf5\n",
      "207672/207672 [==============================] - 710s 3ms/step - loss: 0.3352 - acc: 0.9876 - dice_coef: 0.6648 - mean_iou: 0.4985 - f1_m: 0.6648 - val_loss: 0.3906 - val_acc: 0.9864 - val_dice_coef: 0.6094 - val_mean_iou: 0.4526 - val_f1_m: 0.6094\n",
      "Epoch 76/100\n",
      "207360/207672 [============================>.] - ETA: 1s - loss: 0.3345 - acc: 0.9877 - dice_coef: 0.6655 - mean_iou: 0.4993 - f1_m: 0.6655Epoch 00076: val_f1_m did not improve\n",
      "207672/207672 [==============================] - 713s 3ms/step - loss: 0.3345 - acc: 0.9877 - dice_coef: 0.6655 - mean_iou: 0.4993 - f1_m: 0.6655 - val_loss: 0.3917 - val_acc: 0.9864 - val_dice_coef: 0.6083 - val_mean_iou: 0.4513 - val_f1_m: 0.6083\n",
      "Epoch 77/100\n",
      "207360/207672 [============================>.] - ETA: 1s - loss: 0.3336 - acc: 0.9877 - dice_coef: 0.6664 - mean_iou: 0.5002 - f1_m: 0.6664Epoch 00077: val_f1_m improved from 0.60938 to 0.60969, saving model to augmented_50_50_random_split_Crackforest_grayscale_input_2_layer_tanh_softmax_loss_f1_epochs_100_bs_320_lr_1e_4_input_8_1_480.hdf5\n",
      "207672/207672 [==============================] - 713s 3ms/step - loss: 0.3336 - acc: 0.9877 - dice_coef: 0.6664 - mean_iou: 0.5003 - f1_m: 0.6664 - val_loss: 0.3903 - val_acc: 0.9866 - val_dice_coef: 0.6097 - val_mean_iou: 0.4529 - val_f1_m: 0.6097\n"
     ]
    },
    {
     "name": "stdout",
     "output_type": "stream",
     "text": [
      "Epoch 78/100\n",
      "207360/207672 [============================>.] - ETA: 1s - loss: 0.3331 - acc: 0.9877 - dice_coef: 0.6669 - mean_iou: 0.5008 - f1_m: 0.6669Epoch 00078: val_f1_m did not improve\n",
      "207672/207672 [==============================] - 713s 3ms/step - loss: 0.3330 - acc: 0.9877 - dice_coef: 0.6670 - mean_iou: 0.5008 - f1_m: 0.6670 - val_loss: 0.3958 - val_acc: 0.9867 - val_dice_coef: 0.6042 - val_mean_iou: 0.4492 - val_f1_m: 0.6042\n",
      "Epoch 79/100\n",
      "207360/207672 [============================>.] - ETA: 1s - loss: 0.3327 - acc: 0.9877 - dice_coef: 0.6673 - mean_iou: 0.5012 - f1_m: 0.6673Epoch 00079: val_f1_m improved from 0.60969 to 0.61057, saving model to augmented_50_50_random_split_Crackforest_grayscale_input_2_layer_tanh_softmax_loss_f1_epochs_100_bs_320_lr_1e_4_input_8_1_480.hdf5\n",
      "207672/207672 [==============================] - 717s 3ms/step - loss: 0.3327 - acc: 0.9877 - dice_coef: 0.6673 - mean_iou: 0.5012 - f1_m: 0.6673 - val_loss: 0.3894 - val_acc: 0.9864 - val_dice_coef: 0.6106 - val_mean_iou: 0.4533 - val_f1_m: 0.6106\n",
      "Epoch 80/100\n",
      "207360/207672 [============================>.] - ETA: 1s - loss: 0.3318 - acc: 0.9878 - dice_coef: 0.6682 - mean_iou: 0.5023 - f1_m: 0.6682Epoch 00080: val_f1_m improved from 0.61057 to 0.61122, saving model to augmented_50_50_random_split_Crackforest_grayscale_input_2_layer_tanh_softmax_loss_f1_epochs_100_bs_320_lr_1e_4_input_8_1_480.hdf5\n",
      "207672/207672 [==============================] - 714s 3ms/step - loss: 0.3317 - acc: 0.9878 - dice_coef: 0.6683 - mean_iou: 0.5023 - f1_m: 0.6683 - val_loss: 0.3888 - val_acc: 0.9865 - val_dice_coef: 0.6112 - val_mean_iou: 0.4545 - val_f1_m: 0.6112\n",
      "Epoch 81/100\n",
      "207360/207672 [============================>.] - ETA: 1s - loss: 0.3316 - acc: 0.9878 - dice_coef: 0.6684 - mean_iou: 0.5025 - f1_m: 0.6684Epoch 00081: val_f1_m did not improve\n",
      "207672/207672 [==============================] - 716s 3ms/step - loss: 0.3317 - acc: 0.9878 - dice_coef: 0.6683 - mean_iou: 0.5024 - f1_m: 0.6683 - val_loss: 0.3909 - val_acc: 0.9869 - val_dice_coef: 0.6091 - val_mean_iou: 0.4535 - val_f1_m: 0.6091\n",
      "Epoch 82/100\n",
      "207360/207672 [============================>.] - ETA: 1s - loss: 0.3306 - acc: 0.9878 - dice_coef: 0.6694 - mean_iou: 0.5036 - f1_m: 0.6694Epoch 00082: val_f1_m did not improve\n",
      "207672/207672 [==============================] - 712s 3ms/step - loss: 0.3305 - acc: 0.9878 - dice_coef: 0.6695 - mean_iou: 0.5036 - f1_m: 0.6695 - val_loss: 0.3910 - val_acc: 0.9867 - val_dice_coef: 0.6090 - val_mean_iou: 0.4530 - val_f1_m: 0.6090\n",
      "Epoch 83/100\n",
      "207360/207672 [============================>.] - ETA: 1s - loss: 0.3295 - acc: 0.9878 - dice_coef: 0.6705 - mean_iou: 0.5048 - f1_m: 0.6705Epoch 00083: val_f1_m did not improve\n",
      "207672/207672 [==============================] - 714s 3ms/step - loss: 0.3296 - acc: 0.9878 - dice_coef: 0.6704 - mean_iou: 0.5047 - f1_m: 0.6704 - val_loss: 0.4011 - val_acc: 0.9871 - val_dice_coef: 0.5989 - val_mean_iou: 0.4457 - val_f1_m: 0.5989\n",
      "Epoch 84/100\n",
      "207360/207672 [============================>.] - ETA: 1s - loss: 0.3294 - acc: 0.9878 - dice_coef: 0.6706 - mean_iou: 0.5050 - f1_m: 0.6706Epoch 00084: val_f1_m did not improve\n",
      "207672/207672 [==============================] - 712s 3ms/step - loss: 0.3294 - acc: 0.9878 - dice_coef: 0.6706 - mean_iou: 0.5050 - f1_m: 0.6706 - val_loss: 0.3902 - val_acc: 0.9868 - val_dice_coef: 0.6098 - val_mean_iou: 0.4539 - val_f1_m: 0.6098\n",
      "Epoch 85/100\n",
      "207360/207672 [============================>.] - ETA: 1s - loss: 0.3289 - acc: 0.9879 - dice_coef: 0.6711 - mean_iou: 0.5055 - f1_m: 0.6711Epoch 00085: val_f1_m did not improve\n",
      "207672/207672 [==============================] - 712s 3ms/step - loss: 0.3289 - acc: 0.9879 - dice_coef: 0.6711 - mean_iou: 0.5055 - f1_m: 0.6711 - val_loss: 0.3914 - val_acc: 0.9855 - val_dice_coef: 0.6086 - val_mean_iou: 0.4493 - val_f1_m: 0.6086\n",
      "Epoch 86/100\n",
      "207360/207672 [============================>.] - ETA: 1s - loss: 0.3287 - acc: 0.9879 - dice_coef: 0.6713 - mean_iou: 0.5058 - f1_m: 0.6713Epoch 00086: val_f1_m improved from 0.61122 to 0.61150, saving model to augmented_50_50_random_split_Crackforest_grayscale_input_2_layer_tanh_softmax_loss_f1_epochs_100_bs_320_lr_1e_4_input_8_1_480.hdf5\n",
      "207672/207672 [==============================] - 711s 3ms/step - loss: 0.3287 - acc: 0.9879 - dice_coef: 0.6713 - mean_iou: 0.5058 - f1_m: 0.6713 - val_loss: 0.3885 - val_acc: 0.9865 - val_dice_coef: 0.6115 - val_mean_iou: 0.4549 - val_f1_m: 0.6115\n",
      "Epoch 87/100\n",
      "207360/207672 [============================>.] - ETA: 1s - loss: 0.3280 - acc: 0.9879 - dice_coef: 0.6720 - mean_iou: 0.5066 - f1_m: 0.6720Epoch 00087: val_f1_m did not improve\n",
      "207672/207672 [==============================] - 714s 3ms/step - loss: 0.3280 - acc: 0.9879 - dice_coef: 0.6720 - mean_iou: 0.5066 - f1_m: 0.6720 - val_loss: 0.3885 - val_acc: 0.9868 - val_dice_coef: 0.6115 - val_mean_iou: 0.4552 - val_f1_m: 0.6115\n",
      "Epoch 88/100\n",
      "207360/207672 [============================>.] - ETA: 1s - loss: 0.3272 - acc: 0.9879 - dice_coef: 0.6728 - mean_iou: 0.5074 - f1_m: 0.6728Epoch 00088: val_f1_m did not improve\n",
      "207672/207672 [==============================] - 709s 3ms/step - loss: 0.3272 - acc: 0.9879 - dice_coef: 0.6728 - mean_iou: 0.5075 - f1_m: 0.6728 - val_loss: 0.3935 - val_acc: 0.9870 - val_dice_coef: 0.6065 - val_mean_iou: 0.4517 - val_f1_m: 0.6065\n",
      "Epoch 89/100\n",
      "207360/207672 [============================>.] - ETA: 1s - loss: 0.3266 - acc: 0.9880 - dice_coef: 0.6734 - mean_iou: 0.5081 - f1_m: 0.6734Epoch 00089: val_f1_m did not improve\n",
      "207672/207672 [==============================] - 711s 3ms/step - loss: 0.3267 - acc: 0.9880 - dice_coef: 0.6733 - mean_iou: 0.5081 - f1_m: 0.6733 - val_loss: 0.3962 - val_acc: 0.9871 - val_dice_coef: 0.6038 - val_mean_iou: 0.4494 - val_f1_m: 0.6038\n",
      "Epoch 90/100\n",
      "207360/207672 [============================>.] - ETA: 1s - loss: 0.3260 - acc: 0.9880 - dice_coef: 0.6740 - mean_iou: 0.5089 - f1_m: 0.6740Epoch 00090: val_f1_m improved from 0.61150 to 0.61349, saving model to augmented_50_50_random_split_Crackforest_grayscale_input_2_layer_tanh_softmax_loss_f1_epochs_100_bs_320_lr_1e_4_input_8_1_480.hdf5\n",
      "207672/207672 [==============================] - 713s 3ms/step - loss: 0.3259 - acc: 0.9880 - dice_coef: 0.6741 - mean_iou: 0.5089 - f1_m: 0.6741 - val_loss: 0.3865 - val_acc: 0.9865 - val_dice_coef: 0.6135 - val_mean_iou: 0.4559 - val_f1_m: 0.6135\n",
      "Epoch 91/100\n",
      "207360/207672 [============================>.] - ETA: 1s - loss: 0.3255 - acc: 0.9880 - dice_coef: 0.6745 - mean_iou: 0.5094 - f1_m: 0.6745Epoch 00091: val_f1_m improved from 0.61349 to 0.61414, saving model to augmented_50_50_random_split_Crackforest_grayscale_input_2_layer_tanh_softmax_loss_f1_epochs_100_bs_320_lr_1e_4_input_8_1_480.hdf5\n",
      "207672/207672 [==============================] - 711s 3ms/step - loss: 0.3255 - acc: 0.9880 - dice_coef: 0.6745 - mean_iou: 0.5094 - f1_m: 0.6745 - val_loss: 0.3859 - val_acc: 0.9868 - val_dice_coef: 0.6141 - val_mean_iou: 0.4577 - val_f1_m: 0.6141\n",
      "Epoch 92/100\n",
      "207360/207672 [============================>.] - ETA: 1s - loss: 0.3245 - acc: 0.9880 - dice_coef: 0.6755 - mean_iou: 0.5105 - f1_m: 0.6755Epoch 00092: val_f1_m did not improve\n",
      "207672/207672 [==============================] - 717s 3ms/step - loss: 0.3245 - acc: 0.9880 - dice_coef: 0.6755 - mean_iou: 0.5106 - f1_m: 0.6755 - val_loss: 0.3896 - val_acc: 0.9869 - val_dice_coef: 0.6104 - val_mean_iou: 0.4550 - val_f1_m: 0.6104\n",
      "Epoch 93/100\n",
      "207360/207672 [============================>.] - ETA: 1s - loss: 0.3242 - acc: 0.9880 - dice_coef: 0.6758 - mean_iou: 0.5108 - f1_m: 0.6758Epoch 00093: val_f1_m improved from 0.61414 to 0.61434, saving model to augmented_50_50_random_split_Crackforest_grayscale_input_2_layer_tanh_softmax_loss_f1_epochs_100_bs_320_lr_1e_4_input_8_1_480.hdf5\n",
      "207672/207672 [==============================] - 715s 3ms/step - loss: 0.3242 - acc: 0.9880 - dice_coef: 0.6758 - mean_iou: 0.5108 - f1_m: 0.6758 - val_loss: 0.3857 - val_acc: 0.9867 - val_dice_coef: 0.6143 - val_mean_iou: 0.4572 - val_f1_m: 0.6143\n",
      "Epoch 94/100\n",
      "207360/207672 [============================>.] - ETA: 1s - loss: 0.3234 - acc: 0.9881 - dice_coef: 0.6766 - mean_iou: 0.5118 - f1_m: 0.6766Epoch 00094: val_f1_m did not improve\n",
      "207672/207672 [==============================] - 712s 3ms/step - loss: 0.3234 - acc: 0.9881 - dice_coef: 0.6766 - mean_iou: 0.5119 - f1_m: 0.6766 - val_loss: 0.3874 - val_acc: 0.9870 - val_dice_coef: 0.6126 - val_mean_iou: 0.4569 - val_f1_m: 0.6126\n"
     ]
    },
    {
     "name": "stdout",
     "output_type": "stream",
     "text": [
      "Epoch 95/100\n",
      "207360/207672 [============================>.] - ETA: 1s - loss: 0.3231 - acc: 0.9881 - dice_coef: 0.6769 - mean_iou: 0.5122 - f1_m: 0.6769Epoch 00095: val_f1_m did not improve\n",
      "207672/207672 [==============================] - 715s 3ms/step - loss: 0.3231 - acc: 0.9881 - dice_coef: 0.6769 - mean_iou: 0.5121 - f1_m: 0.6769 - val_loss: 0.3892 - val_acc: 0.9870 - val_dice_coef: 0.6108 - val_mean_iou: 0.4552 - val_f1_m: 0.6108\n",
      "Epoch 96/100\n",
      "207360/207672 [============================>.] - ETA: 1s - loss: 0.3226 - acc: 0.9881 - dice_coef: 0.6774 - mean_iou: 0.5127 - f1_m: 0.6774Epoch 00096: val_f1_m improved from 0.61434 to 0.61555, saving model to augmented_50_50_random_split_Crackforest_grayscale_input_2_layer_tanh_softmax_loss_f1_epochs_100_bs_320_lr_1e_4_input_8_1_480.hdf5\n",
      "207672/207672 [==============================] - 709s 3ms/step - loss: 0.3226 - acc: 0.9881 - dice_coef: 0.6774 - mean_iou: 0.5127 - f1_m: 0.6774 - val_loss: 0.3844 - val_acc: 0.9864 - val_dice_coef: 0.6156 - val_mean_iou: 0.4580 - val_f1_m: 0.6156\n",
      "Epoch 97/100\n",
      "207360/207672 [============================>.] - ETA: 1s - loss: 0.3223 - acc: 0.9881 - dice_coef: 0.6777 - mean_iou: 0.5131 - f1_m: 0.6777Epoch 00097: val_f1_m did not improve\n",
      "207672/207672 [==============================] - 717s 3ms/step - loss: 0.3223 - acc: 0.9881 - dice_coef: 0.6777 - mean_iou: 0.5131 - f1_m: 0.6777 - val_loss: 0.3865 - val_acc: 0.9868 - val_dice_coef: 0.6135 - val_mean_iou: 0.4571 - val_f1_m: 0.6135\n",
      "Epoch 98/100\n",
      "207360/207672 [============================>.] - ETA: 1s - loss: 0.3219 - acc: 0.9881 - dice_coef: 0.6781 - mean_iou: 0.5135 - f1_m: 0.6781Epoch 00098: val_f1_m improved from 0.61555 to 0.61631, saving model to augmented_50_50_random_split_Crackforest_grayscale_input_2_layer_tanh_softmax_loss_f1_epochs_100_bs_320_lr_1e_4_input_8_1_480.hdf5\n",
      "207672/207672 [==============================] - 715s 3ms/step - loss: 0.3219 - acc: 0.9881 - dice_coef: 0.6781 - mean_iou: 0.5135 - f1_m: 0.6781 - val_loss: 0.3837 - val_acc: 0.9867 - val_dice_coef: 0.6163 - val_mean_iou: 0.4598 - val_f1_m: 0.6163\n",
      "Epoch 99/100\n",
      "207360/207672 [============================>.] - ETA: 1s - loss: 0.3212 - acc: 0.9882 - dice_coef: 0.6788 - mean_iou: 0.5143 - f1_m: 0.6788Epoch 00099: val_f1_m did not improve\n",
      "207672/207672 [==============================] - 716s 3ms/step - loss: 0.3212 - acc: 0.9882 - dice_coef: 0.6788 - mean_iou: 0.5142 - f1_m: 0.6788 - val_loss: 0.3840 - val_acc: 0.9865 - val_dice_coef: 0.6160 - val_mean_iou: 0.4588 - val_f1_m: 0.6160\n",
      "Epoch 100/100\n",
      "207360/207672 [============================>.] - ETA: 1s - loss: 0.3205 - acc: 0.9882 - dice_coef: 0.6795 - mean_iou: 0.5151 - f1_m: 0.6795Epoch 00100: val_f1_m improved from 0.61631 to 0.61654, saving model to augmented_50_50_random_split_Crackforest_grayscale_input_2_layer_tanh_softmax_loss_f1_epochs_100_bs_320_lr_1e_4_input_8_1_480.hdf5\n",
      "207672/207672 [==============================] - 712s 3ms/step - loss: 0.3205 - acc: 0.9882 - dice_coef: 0.6795 - mean_iou: 0.5151 - f1_m: 0.6795 - val_loss: 0.3835 - val_acc: 0.9866 - val_dice_coef: 0.6165 - val_mean_iou: 0.4594 - val_f1_m: 0.6165\n"
     ]
    }
   ],
   "source": [
    "model = get_model()\n",
    "model_checkpoint = keras.callbacks.ModelCheckpoint('augmented_50_50_random_split_Crackforest_grayscale_input_2_layer_tanh_softmax_loss_f1_epochs_100_bs_320_lr_1e_4_input_8_1_480.hdf5', monitor='val_f1_m', mode='max', verbose=1, save_best_only=True)\n",
    "history = model.fit(x_train, y_train, batch_size=320, epochs=100, validation_data=(val_x_train, val_y_train), verbose=1, callbacks=[model_checkpoint])\n",
    "\n",
    "with open('augmented_50_50_random_split_Crackforest_grayscale_input_2_layer_tanh_softmax_loss_f1_epochs_100_bs_320_lr_1e_4_input_8_1_480.json', 'w') as f:\n",
    "    json.dump(history.history, f)"
   ]
  },
  {
   "cell_type": "code",
   "execution_count": 32,
   "metadata": {},
   "outputs": [
    {
     "data": {
      "text/plain": [
       "['loss', 'acc', 'dice_coef', 'mean_iou', 'f1_m']"
      ]
     },
     "execution_count": 32,
     "metadata": {},
     "output_type": "execute_result"
    }
   ],
   "source": [
    "model.metrics_names"
   ]
  },
  {
   "cell_type": "code",
   "execution_count": 33,
   "metadata": {},
   "outputs": [
    {
     "name": "stdout",
     "output_type": "stream",
     "text": [
      "3200/3200 [==============================] - 8s 3ms/step\n",
      "['loss', 'acc', 'dice_coef', 'mean_iou', 'f1_m'] [0.29323542714118955, 0.9909256815910339, 0.17040349915623665, 0.1449022635817528, 0.7067645430564881]\n"
     ]
    }
   ],
   "source": [
    "score = model.evaluate(x_train[:3200], y_train[:3200], batch_size=320)\n",
    "print(model.metrics_names, score)"
   ]
  },
  {
   "cell_type": "code",
   "execution_count": 34,
   "metadata": {},
   "outputs": [
    {
     "name": "stdout",
     "output_type": "stream",
     "text": [
      "3200/3200 [==============================] - 9s 3ms/step\n",
      "['loss', 'acc', 'dice_coef', 'mean_iou', 'f1_m'] [0.7479086345434189, 0.9864307010173797, 0.19798532200977206, 0.16100993164815008, 0.25209136587567627]\n"
     ]
    }
   ],
   "source": [
    "score = model.evaluate(val_x_train[:3200], val_y_train[:3200])\n",
    "print(model.metrics_names, score)"
   ]
  },
  {
   "cell_type": "code",
   "execution_count": 37,
   "metadata": {},
   "outputs": [
    {
     "name": "stdout",
     "output_type": "stream",
     "text": [
      "{:s} function took {:.3f} ms 8.36430048942566\n"
     ]
    }
   ],
   "source": [
    "time1 = time.time()\n",
    "y_pred = model.predict(x_train[:3200])\n",
    "time2 = time.time()\n",
    "print('{:s} function took {:.3f} ms', (time2-time1))"
   ]
  },
  {
   "cell_type": "code",
   "execution_count": 38,
   "metadata": {},
   "outputs": [
    {
     "name": "stdout",
     "output_type": "stream",
     "text": [
      "(array([0.0000000e+00, 3.5524368e-05, 1.8024445e-04, ..., 9.9862313e-01,\n",
      "       9.9890220e-01, 1.0000000e+00], dtype=float32), array([1507985,       1,       1, ...,       1,       1,   24854]))\n"
     ]
    }
   ],
   "source": [
    "print(np.unique(y_pred, return_counts=True))"
   ]
  },
  {
   "cell_type": "code",
   "execution_count": 39,
   "metadata": {
    "scrolled": true
   },
   "outputs": [
    {
     "name": "stdout",
     "output_type": "stream",
     "text": [
      "(3200, 1, 480, 1)\n",
      "(3200, 1, 480, 1)\n",
      "1\n"
     ]
    },
    {
     "data": {
      "image/png": "[encoded data removed]",
      "text/plain": [
       "<Figure size 432x288 with 1 Axes>"
      ]
     },
     "metadata": {},
     "output_type": "display_data"
    },
    {
     "name": "stdout",
     "output_type": "stream",
     "text": [
      "2\n"
     ]
    },
    {
     "data": {
      "image/png": "[encoded data removed]",
      "text/plain": [
       "<Figure size 432x288 with 1 Axes>"
      ]
     },
     "metadata": {},
     "output_type": "display_data"
    },
    {
     "name": "stdout",
     "output_type": "stream",
     "text": [
      "3\n"
     ]
    },
    {
     "data": {
      "image/png": "[encoded data removed]",
      "text/plain": [
       "<Figure size 432x288 with 1 Axes>"
      ]
     },
     "metadata": {},
     "output_type": "display_data"
    },
    {
     "name": "stdout",
     "output_type": "stream",
     "text": [
      "4\n"
     ]
    },
    {
     "data": {
      "image/png": "[encoded data removed]",
      "text/plain": [
       "<Figure size 432x288 with 1 Axes>"
      ]
     },
     "metadata": {},
     "output_type": "display_data"
    },
    {
     "name": "stdout",
     "output_type": "stream",
     "text": [
      "5\n"
     ]
    },
    {
     "data": {
      "image/png": "[encoded data removed]",
      "text/plain": [
       "<Figure size 432x288 with 1 Axes>"
      ]
     },
     "metadata": {},
     "output_type": "display_data"
    },
    {
     "name": "stdout",
     "output_type": "stream",
     "text": [
      "6\n"
     ]
    },
    {
     "data": {
      "image/png": "[encoded data removed]",
      "text/plain": [
       "<Figure size 432x288 with 1 Axes>"
      ]
     },
     "metadata": {},
     "output_type": "display_data"
    },
    {
     "name": "stdout",
     "output_type": "stream",
     "text": [
      "7\n"
     ]
    },
    {
     "data": {
      "image/png": "[encoded data removed]",
      "text/plain": [
       "<Figure size 432x288 with 1 Axes>"
      ]
     },
     "metadata": {},
     "output_type": "display_data"
    },
    {
     "name": "stdout",
     "output_type": "stream",
     "text": [
      "8\n"
     ]
    },
    {
     "data": {
      "image/png": "[encoded data removed]",
      "text/plain": [
       "<Figure size 432x288 with 1 Axes>"
      ]
     },
     "metadata": {},
     "output_type": "display_data"
    },
    {
     "name": "stdout",
     "output_type": "stream",
     "text": [
      "9\n"
     ]
    },
    {
     "data": {
      "image/png": "[encoded data removed]",
      "text/plain": [
       "<Figure size 432x288 with 1 Axes>"
      ]
     },
     "metadata": {},
     "output_type": "display_data"
    },
    {
     "name": "stdout",
     "output_type": "stream",
     "text": [
      "10\n"
     ]
    },
    {
     "data": {
      "image/png": "[encoded data removed]",
      "text/plain": [
       "<Figure size 432x288 with 1 Axes>"
      ]
     },
     "metadata": {},
     "output_type": "display_data"
    }
   ],
   "source": [
    "print(y_pred.shape)\n",
    "print(y_pred.shape)\n",
    "temp_y = np.reshape(y_pred, (10, 320, 480))\n",
    "i = 0\n",
    "for sequence in range(len(temp_y)):\n",
    "    i+=1\n",
    "    print(i)\n",
    "    plt.imshow(temp_y[sequence], cmap='gray')\n",
    "    plt.pause(0.005)"
   ]
  },
  {
   "cell_type": "code",
   "execution_count": 40,
   "metadata": {
    "scrolled": true
   },
   "outputs": [
    {
     "name": "stdout",
     "output_type": "stream",
     "text": [
      "(207672, 1, 480, 1)\n",
      "1\n"
     ]
    },
    {
     "data": {
      "image/png": "[encoded data removed]",
      "text/plain": [
       "<Figure size 432x288 with 1 Axes>"
      ]
     },
     "metadata": {},
     "output_type": "display_data"
    },
    {
     "name": "stdout",
     "output_type": "stream",
     "text": [
      "2\n"
     ]
    },
    {
     "data": {
      "image/png": "[encoded data removed]",
      "text/plain": [
       "<Figure size 432x288 with 1 Axes>"
      ]
     },
     "metadata": {},
     "output_type": "display_data"
    },
    {
     "name": "stdout",
     "output_type": "stream",
     "text": [
      "3\n"
     ]
    },
    {
     "data": {
      "image/png": "[encoded data removed]",
      "text/plain": [
       "<Figure size 432x288 with 1 Axes>"
      ]
     },
     "metadata": {},
     "output_type": "display_data"
    },
    {
     "name": "stdout",
     "output_type": "stream",
     "text": [
      "4\n"
     ]
    },
    {
     "data": {
      "image/png": "[encoded data removed]",
      "text/plain": [
       "<Figure size 432x288 with 1 Axes>"
      ]
     },
     "metadata": {},
     "output_type": "display_data"
    },
    {
     "name": "stdout",
     "output_type": "stream",
     "text": [
      "5\n"
     ]
    },
    {
     "data": {
      "image/png": "[encoded data removed]",
      "text/plain": [
       "<Figure size 432x288 with 1 Axes>"
      ]
     },
     "metadata": {},
     "output_type": "display_data"
    },
    {
     "name": "stdout",
     "output_type": "stream",
     "text": [
      "6\n"
     ]
    },
    {
     "data": {
      "image/png": "[encoded data removed]",
      "text/plain": [
       "<Figure size 432x288 with 1 Axes>"
      ]
     },
     "metadata": {},
     "output_type": "display_data"
    },
    {
     "name": "stdout",
     "output_type": "stream",
     "text": [
      "7\n"
     ]
    },
    {
     "data": {
      "image/png": "[encoded data removed]",
      "text/plain": [
       "<Figure size 432x288 with 1 Axes>"
      ]
     },
     "metadata": {},
     "output_type": "display_data"
    },
    {
     "name": "stdout",
     "output_type": "stream",
     "text": [
      "8\n"
     ]
    },
    {
     "data": {
      "image/png": "[encoded data removed]",
      "text/plain": [
       "<Figure size 432x288 with 1 Axes>"
      ]
     },
     "metadata": {},
     "output_type": "display_data"
    },
    {
     "name": "stdout",
     "output_type": "stream",
     "text": [
      "9\n"
     ]
    },
    {
     "data": {
      "image/png": "[encoded data removed]",
      "text/plain": [
       "<Figure size 432x288 with 1 Axes>"
      ]
     },
     "metadata": {},
     "output_type": "display_data"
    },
    {
     "name": "stdout",
     "output_type": "stream",
     "text": [
      "10\n"
     ]
    },
    {
     "data": {
      "image/png": "[encoded data removed]",
      "text/plain": [
       "<Figure size 432x288 with 1 Axes>"
      ]
     },
     "metadata": {},
     "output_type": "display_data"
    }
   ],
   "source": [
    "print(y_train.shape)\n",
    "temp_y = np.reshape(y_train[:3200], (10, 320, 480))\n",
    "i = 0\n",
    "for sequence in range(len(temp_y)):\n",
    "    i+=1\n",
    "    print(i)\n",
    "    plt.imshow(temp_y[sequence], cmap='gray')\n",
    "    plt.pause(0.005)"
   ]
  },
  {
   "cell_type": "code",
   "execution_count": 41,
   "metadata": {},
   "outputs": [],
   "source": [
    "def concat_img(data):\n",
    "    frames = list()\n",
    "    row_len = 320\n",
    "    for rows in range(0,len(data), row_len):\n",
    "        frames.append(data[rows:rows+row_len])\n",
    "    frames = np.array(frames)\n",
    "    return frames"
   ]
  },
  {
   "cell_type": "code",
   "execution_count": 42,
   "metadata": {},
   "outputs": [
    {
     "name": "stdout",
     "output_type": "stream",
     "text": [
      "(10, 320, 1, 480, 1)\n"
     ]
    }
   ],
   "source": [
    "frames_img = concat_img(y_pred)\n",
    "print(frames_img.shape)"
   ]
  },
  {
   "cell_type": "code",
   "execution_count": 44,
   "metadata": {},
   "outputs": [
    {
     "name": "stdout",
     "output_type": "stream",
     "text": [
      "(10, 320, 1, 480, 1)\n"
     ]
    }
   ],
   "source": [
    "y_frames_img = concat_img(y_train[:3200])\n",
    "print(y_frames_img.shape)"
   ]
  },
  {
   "cell_type": "code",
   "execution_count": 45,
   "metadata": {},
   "outputs": [],
   "source": [
    "frames_img = np.reshape(frames_img, (10,320,480))\n",
    "y_frames_img = np.reshape(y_frames_img, (10,320,480))"
   ]
  },
  {
   "cell_type": "markdown",
   "metadata": {},
   "source": [
    "### Dice-coeff, MIOU, Recall, Precision, F-1"
   ]
  },
  {
   "cell_type": "code",
   "execution_count": 46,
   "metadata": {},
   "outputs": [],
   "source": [
    "def recall_m(y_true, y_pred):\n",
    "    true_positives = np.sum(np.multiply(y_true ,y_pred))\n",
    "    possible_positives = np.sum(y_true)\n",
    "    recall = true_positives / (possible_positives + K.epsilon())\n",
    "    return recall\n",
    "\n",
    "def precision_m(y_true, y_pred):\n",
    "    true_positives = np.sum(np.multiply(y_true ,y_pred))\n",
    "    predicted_positives = np.sum(y_pred)\n",
    "    precision = true_positives / (predicted_positives + K.epsilon())\n",
    "    return precision\n",
    "\n",
    "def f1_m(y_true, y_pred):\n",
    "    precision = precision_m(y_true, y_pred)\n",
    "    recall = recall_m(y_true, y_pred)\n",
    "    return 2*((precision*recall)/(precision+recall + K.epsilon()))"
   ]
  },
  {
   "cell_type": "code",
   "execution_count": 47,
   "metadata": {},
   "outputs": [
    {
     "name": "stdout",
     "output_type": "stream",
     "text": [
      "0.7960533974275598\n"
     ]
    }
   ],
   "source": [
    "recall_scores = list()\n",
    "for frames in range(len(frames_img)):\n",
    "    recall_scores.append(recall_m(y_frames_img[frames],frames_img[frames]))\n",
    "recall_scores = np.array(recall_scores)\n",
    "print(np.mean(recall_scores))"
   ]
  },
  {
   "cell_type": "code",
   "execution_count": 48,
   "metadata": {},
   "outputs": [
    {
     "name": "stdout",
     "output_type": "stream",
     "text": [
      "0.6362297164567688\n"
     ]
    }
   ],
   "source": [
    "prec_scores = list()\n",
    "for frames in range(len(frames_img)):\n",
    "    prec_scores.append(precision_m(y_frames_img[frames],frames_img[frames]))\n",
    "prec_scores = np.array(prec_scores)\n",
    "print(np.mean(prec_scores))"
   ]
  },
  {
   "cell_type": "code",
   "execution_count": 49,
   "metadata": {},
   "outputs": [
    {
     "name": "stdout",
     "output_type": "stream",
     "text": [
      "0.7067645765485878\n"
     ]
    }
   ],
   "source": [
    "f1_scores = list()\n",
    "for frames in range(len(frames_img)):\n",
    "    f1_scores.append(f1_m(y_frames_img[frames],frames_img[frames]))\n",
    "f1_scores = np.array(f1_scores)\n",
    "print(np.mean(f1_scores))"
   ]
  },
  {
   "cell_type": "code",
   "execution_count": 68,
   "metadata": {},
   "outputs": [],
   "source": [
    "def dice_score(y_true, y_pred, smooth=1):   \n",
    "    intersection = np.sum(np.multiply(y_true ,y_pred))\n",
    "    union = np.sum(y_true) + np.sum(y_pred)\n",
    "    iou = (2. * intersection) / (union + K.epsilon())\n",
    "#     print(iou)\n",
    "    return iou"
   ]
  },
  {
   "cell_type": "code",
   "execution_count": 69,
   "metadata": {
    "scrolled": true
   },
   "outputs": [
    {
     "name": "stdout",
     "output_type": "stream",
     "text": [
      "0.7067646259038873\n"
     ]
    }
   ],
   "source": [
    "dice_scores = list()\n",
    "for frames in range(len(frames_img)):\n",
    "    dice_scores.append(dice_score(y_frames_img[frames],frames_img[frames]))\n",
    "dice_scores = np.array(dice_scores)\n",
    "print(np.mean(dice_scores))"
   ]
  },
  {
   "cell_type": "code",
   "execution_count": 50,
   "metadata": {},
   "outputs": [],
   "source": [
    "def iou(y_true, y_pred, smooth=1):   \n",
    "    intersection = np.sum(np.multiply(y_true ,y_pred))\n",
    "    union = np.sum(y_true) + np.sum(y_pred) - intersection\n",
    "    iou = (intersection) / (union + K.epsilon())\n",
    "#     print(iou)\n",
    "    return iou"
   ]
  },
  {
   "cell_type": "code",
   "execution_count": 51,
   "metadata": {},
   "outputs": [
    {
     "name": "stdout",
     "output_type": "stream",
     "text": [
      "0.2971806840444188\n"
     ]
    }
   ],
   "source": [
    "iou_scores = list()\n",
    "for frames in range(len(frames_img)):\n",
    "    iou_scores.append(iou(y_frames_img[frames],frames_img[frames]))\n",
    "iou_scores = np.array(iou_scores)\n",
    "print(np.mean(iou_scores))"
   ]
  }
 ],
 "metadata": {
  "kernelspec": {
   "display_name": "Python 3",
   "language": "python",
   "name": "python3"
  },
  "language_info": {
   "codemirror_mode": {
    "name": "ipython",
    "version": 3
   },
   "file_extension": ".py",
   "mimetype": "text/x-python",
   "name": "python",
   "nbconvert_exporter": "python",
   "pygments_lexer": "ipython3",
   "version": "3.6.9"
  }
 },
 "nbformat": 4,
 "nbformat_minor": 2
}
